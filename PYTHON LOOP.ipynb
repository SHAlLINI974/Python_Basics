{
 "cells": [
  {
   "cell_type": "code",
   "execution_count": 2,
   "metadata": {},
   "outputs": [],
   "source": [
    "# while True:\n",
    "    \n",
    "   # for itr in range(5):  # iteration itr\n",
    "    #    print('ABC')\n",
    "   # if itr > 5:\n",
    "       # break\n",
    "        "
   ]
  },
  {
   "cell_type": "code",
   "execution_count": null,
   "metadata": {},
   "outputs": [],
   "source": [
    "# whille True:\n",
    "    # print('ABC')  # infinite loop"
   ]
  },
  {
   "cell_type": "code",
   "execution_count": 4,
   "metadata": {},
   "outputs": [
    {
     "name": "stdout",
     "output_type": "stream",
     "text": [
      "The sum is 55\n"
     ]
    }
   ],
   "source": [
    "# Try different numbers\n",
    "n = 10\n",
    "\n",
    "# initialize sum and counter\n",
    "summ = 0\n",
    "i   = 1\n",
    "\n",
    "while i <= n:\n",
    "    summ = summ + i\n",
    "    i   = i+1   # update counter\n",
    "\n",
    "# print the summ\n",
    "print(\"The sum is\",summ)"
   ]
  },
  {
   "cell_type": "code",
   "execution_count": 1,
   "metadata": {},
   "outputs": [
    {
     "data": {
      "text/plain": [
       "55"
      ]
     },
     "execution_count": 1,
     "metadata": {},
     "output_type": "execute_result"
    }
   ],
   "source": [
    "1+2+3+4+5+6+7+8+9+10 # output is like"
   ]
  },
  {
   "cell_type": "code",
   "execution_count": 5,
   "metadata": {},
   "outputs": [
    {
     "name": "stdout",
     "output_type": "stream",
     "text": [
      "yes\n"
     ]
    }
   ],
   "source": [
    "if 's' in 'shalini':\n",
    "    print('yes')\n",
    "    "
   ]
  },
  {
   "cell_type": "code",
   "execution_count": 6,
   "metadata": {},
   "outputs": [
    {
     "name": "stdin",
     "output_type": "stream",
     "text": [
      "Enter a vowel:  h\n"
     ]
    },
    {
     "name": "stdout",
     "output_type": "stream",
     "text": [
      "That is not a vowel. Try again!\n"
     ]
    },
    {
     "name": "stdin",
     "output_type": "stream",
     "text": [
      "Enter a vowel:  g\n"
     ]
    },
    {
     "name": "stdout",
     "output_type": "stream",
     "text": [
      "That is not a vowel. Try again!\n"
     ]
    },
    {
     "name": "stdin",
     "output_type": "stream",
     "text": [
      "Enter a vowel:  y\n"
     ]
    },
    {
     "name": "stdout",
     "output_type": "stream",
     "text": [
      "That is not a vowel. Try again!\n"
     ]
    },
    {
     "name": "stdin",
     "output_type": "stream",
     "text": [
      "Enter a vowel:  u\n"
     ]
    },
    {
     "name": "stdout",
     "output_type": "stream",
     "text": [
      "Thank you!\n"
     ]
    }
   ],
   "source": [
    "vowels = \"aeiouAEIOU\"\n",
    "\n",
    "# infinite loop\n",
    "while True:\n",
    "    v = input(\"Enter a vowel: \")\n",
    "    \n",
    "    # condition in the middle\n",
    "    if v in vowels:\n",
    "        break\n",
    "    \n",
    "    print(\"That is not a vowel. Try again!\")\n",
    "    \n",
    "print(\"Thank you!\")"
   ]
  },
  {
   "cell_type": "code",
   "execution_count": 5,
   "metadata": {},
   "outputs": [
    {
     "name": "stdin",
     "output_type": "stream",
     "text": [
      "Enter a vowel: h\n"
     ]
    },
    {
     "name": "stdout",
     "output_type": "stream",
     "text": [
      "That not a vowel.Try again!\n"
     ]
    },
    {
     "name": "stdin",
     "output_type": "stream",
     "text": [
      "Enter a vowel: u\n"
     ]
    },
    {
     "name": "stdout",
     "output_type": "stream",
     "text": [
      "Thank You!\n"
     ]
    }
   ],
   "source": [
    "vowels = \"aeiouAEIOU\"\n",
    "while True:\n",
    "    v =input(\"Enter a vowel:\")\n",
    "    if v in vowels:\n",
    "        break\n",
    "        \n",
    "    print(\"That not a vowel.Try again!\")\n",
    "\n",
    "print(\"Thank You!\")"
   ]
  },
  {
   "cell_type": "code",
   "execution_count": 12,
   "metadata": {},
   "outputs": [
    {
     "name": "stdin",
     "output_type": "stream",
     "text": [
      "Enter a consonant: u\n"
     ]
    },
    {
     "name": "stdout",
     "output_type": "stream",
     "text": [
      "That not a consonant. plz check once!\n"
     ]
    },
    {
     "name": "stdin",
     "output_type": "stream",
     "text": [
      "Enter a consonant: j\n"
     ]
    },
    {
     "name": "stdout",
     "output_type": "stream",
     "text": [
      "THANK YOU!\n"
     ]
    }
   ],
   "source": [
    "consonants = \"bcdfghjklmnpqrstvwxyzBCDFGHJKLMNPQRSTVWXYZ\"\n",
    "while True:\n",
    "    c= input(\"Enter a consonant:\")\n",
    "    if c in consonants:\n",
    "        break\n",
    "   \n",
    "    print(\"That not a consonant. plz check once!\") \n",
    "\n",
    "print(\"THANK YOU!\")    \n",
    "    \n",
    "    "
   ]
  },
  {
   "cell_type": "markdown",
   "metadata": {},
   "source": [
    "----------------\n",
    "## Python If Else\n",
    "----------\n",
    "\n",
    "The if-else statement is a staple of most programming languages. It is used to test different conditions and execute code accordingly. \n",
    "\n",
    "#### The basic syntax is as follows:\n",
    "\n",
    "if condition1 = True:\n",
    "\n",
    "      execute code1\n",
    "\n",
    "else:               \n",
    "\n",
    "      execute code **"
   ]
  },
  {
   "cell_type": "code",
   "execution_count": 1,
   "metadata": {},
   "outputs": [
    {
     "name": "stdout",
     "output_type": "stream",
     "text": [
      "X is smaller than or equal to five!\n"
     ]
    }
   ],
   "source": [
    "x = 5\n",
    "\n",
    "if x > 5:\n",
    "      print (\"X is larger than five!\")\n",
    "else:\n",
    "      print (\"X is smaller than or equal to five!\")"
   ]
  },
  {
   "cell_type": "code",
   "execution_count": 2,
   "metadata": {},
   "outputs": [
    {
     "name": "stdout",
     "output_type": "stream",
     "text": [
      "Hey, X is EXACTLY five!\n"
     ]
    }
   ],
   "source": [
    "x = 5\n",
    "\n",
    "if x == 5:\n",
    "    print(\"Hey, X is EXACTLY five!\")\n",
    "\n",
    "elif x > 5:\n",
    "    print(\"X is now MORE than five!\")\n",
    "else:\n",
    "    print(\"X is now LESS than five!\")"
   ]
  },
  {
   "cell_type": "code",
   "execution_count": 4,
   "metadata": {},
   "outputs": [
    {
     "name": "stdout",
     "output_type": "stream",
     "text": [
      "X is now MORE than five!\n"
     ]
    }
   ],
   "source": [
    "x = 8\n",
    "\n",
    "if x == 5:\n",
    "    print(\"Hey, X is EXACTLY five!\")\n",
    "\n",
    "elif x > 5:\n",
    "    print(\"X is now MORE than five!\")\n",
    "else:\n",
    "    print(\"X is now LESS than five!\")"
   ]
  },
  {
   "cell_type": "markdown",
   "metadata": {},
   "source": [
    "**Nested If-Else Statements**"
   ]
  },
  {
   "cell_type": "code",
   "execution_count": 8,
   "metadata": {},
   "outputs": [
    {
     "name": "stdout",
     "output_type": "stream",
     "text": [
      "I will buy 5 dozens\n"
     ]
    }
   ],
   "source": [
    "orange_quality = 'fresh'\n",
    "orange_price   = 4.0\n",
    "\n",
    "if orange_quality == 'fresh':\n",
    "        if orange_price < 5:\n",
    "            print('I will buy 5 dozens')\n",
    "        else: \n",
    "            print(\"I will buy 2 dozens\")\n",
    "else:\n",
    "      print(\"I will not buy any oranges\")"
   ]
  },
  {
   "cell_type": "code",
   "execution_count": 13,
   "metadata": {},
   "outputs": [
    {
     "name": "stdout",
     "output_type": "stream",
     "text": [
      "I will not buy any oranges\n"
     ]
    }
   ],
   "source": [
    "orange_quality = ' not fresh'\n",
    "orange_price = 12              # change to see output\n",
    "\n",
    "if orange_quality == 'fresh':\n",
    "    if orange_price < 5:\n",
    "        print(\"I will buy 5 dozens\")\n",
    "    else:\n",
    "        print(\"I will buy 2 dozens\")\n",
    "        \n",
    "else: \n",
    "     print(\"I will not buy any oranges\")\n",
    "        "
   ]
  },
  {
   "cell_type": "markdown",
   "metadata": {},
   "source": [
    "--------------\n",
    "#### Sample project 1 : determine if the user input is odd or even\n",
    "----------------"
   ]
  },
  {
   "cell_type": "code",
   "execution_count": 19,
   "metadata": {},
   "outputs": [
    {
     "name": "stdout",
     "output_type": "stream",
     "text": [
      "NUMBER IS EVEN\n"
     ]
    }
   ],
   "source": [
    "given_num = 24\n",
    "\n",
    "if given_num % 2 == 0:\n",
    "    print(\"NUMBER IS EVEN\")\n",
    "else:\n",
    "    print(\"NUMBER IS ODD\")\n",
    "    "
   ]
  },
  {
   "cell_type": "code",
   "execution_count": null,
   "metadata": {},
   "outputs": [],
   "source": [
    "print (\"Please enter a number between 1 and 20\")\n",
    "\n",
    "enter_num = int(input(\"> \"))       #int() added to ensure that the input is treated as a number, not a string\n",
    "\n",
    "if enter_num >= 1 and enter_num <= 20: #conditional statement that ensures limit is between 1 and 20.\n",
    "\n",
    "        print (\"You have entered a valid number\")\n",
    "\n",
    "        if enter_num % 2 == 0:         #test for even/odd\n",
    "                 print (\"Your number is even\")\n",
    "\n",
    "        elif enter_num % 2 == 1: #test for even/odd\n",
    "                 print (\"Your number is odd\")\n",
    "\n",
    "else:\n",
    "        print (\"You've entered an invalid number\")"
   ]
  },
  {
   "cell_type": "markdown",
   "metadata": {},
   "source": [
    "#### An exception "
   ]
  },
  {
   "cell_type": "code",
   "execution_count": 4,
   "metadata": {},
   "outputs": [
    {
     "ename": "SyntaxError",
     "evalue": "invalid syntax (<ipython-input-4-c3931f671051>, line 1)",
     "output_type": "error",
     "traceback": [
      "\u001b[0;36m  File \u001b[0;32m\"<ipython-input-4-c3931f671051>\"\u001b[0;36m, line \u001b[0;32m1\u001b[0m\n\u001b[0;31m    print( 0 / 0 ))\u001b[0m\n\u001b[0m                  ^\u001b[0m\n\u001b[0;31mSyntaxError\u001b[0m\u001b[0;31m:\u001b[0m invalid syntax\n"
     ]
    }
   ],
   "source": [
    "print( 0 / 0 )) # exception error"
   ]
  },
  {
   "cell_type": "code",
   "execution_count": 5,
   "metadata": {},
   "outputs": [
    {
     "ename": "ZeroDivisionError",
     "evalue": "division by zero",
     "output_type": "error",
     "traceback": [
      "\u001b[0;31m---------------------------------------------------------------------------\u001b[0m",
      "\u001b[0;31mZeroDivisionError\u001b[0m                         Traceback (most recent call last)",
      "\u001b[0;32m<ipython-input-5-b6c088d31521>\u001b[0m in \u001b[0;36m<module>\u001b[0;34m\u001b[0m\n\u001b[0;32m----> 1\u001b[0;31m \u001b[0mprint\u001b[0m\u001b[0;34m(\u001b[0m\u001b[0;36m0\u001b[0m \u001b[0;34m/\u001b[0m \u001b[0;36m0\u001b[0m\u001b[0;34m)\u001b[0m\u001b[0;34m\u001b[0m\u001b[0;34m\u001b[0m\u001b[0m\n\u001b[0m",
      "\u001b[0;31mZeroDivisionError\u001b[0m: division by zero"
     ]
    }
   ],
   "source": [
    "print(0 / 0)       # exception error"
   ]
  },
  {
   "cell_type": "markdown",
   "metadata": {},
   "source": [
    "##### Raising an Exception\n",
    "\n",
    "- We can use `raise` to throw an exception if a condition occurs."
   ]
  },
  {
   "cell_type": "code",
   "execution_count": 6,
   "metadata": {},
   "outputs": [
    {
     "ename": "Exception",
     "evalue": "x should not exceed 5. The value of x was: 10",
     "output_type": "error",
     "traceback": [
      "\u001b[0;31m---------------------------------------------------------------------------\u001b[0m",
      "\u001b[0;31mException\u001b[0m                                 Traceback (most recent call last)",
      "\u001b[0;32m<ipython-input-6-bb6274c7ffa0>\u001b[0m in \u001b[0;36m<module>\u001b[0;34m\u001b[0m\n\u001b[1;32m      2\u001b[0m \u001b[0;34m\u001b[0m\u001b[0m\n\u001b[1;32m      3\u001b[0m \u001b[0;32mif\u001b[0m \u001b[0mx\u001b[0m \u001b[0;34m>\u001b[0m \u001b[0;36m5\u001b[0m\u001b[0;34m:\u001b[0m\u001b[0;34m\u001b[0m\u001b[0;34m\u001b[0m\u001b[0m\n\u001b[0;32m----> 4\u001b[0;31m     \u001b[0;32mraise\u001b[0m \u001b[0mException\u001b[0m\u001b[0;34m(\u001b[0m\u001b[0;34m'x should not exceed 5. The value of x was: {}'\u001b[0m\u001b[0;34m.\u001b[0m\u001b[0mformat\u001b[0m\u001b[0;34m(\u001b[0m\u001b[0mx\u001b[0m\u001b[0;34m)\u001b[0m\u001b[0;34m)\u001b[0m\u001b[0;34m\u001b[0m\u001b[0;34m\u001b[0m\u001b[0m\n\u001b[0m",
      "\u001b[0;31mException\u001b[0m: x should not exceed 5. The value of x was: 10"
     ]
    }
   ],
   "source": [
    "x = 10\n",
    "\n",
    "if x > 5:\n",
    "    raise Exception('x should not exceed 5. The value of x was: {}'.format(x))"
   ]
  },
  {
   "cell_type": "code",
   "execution_count": 11,
   "metadata": {},
   "outputs": [
    {
     "ename": "Exception",
     "evalue": "b should not less than 100.The value of b was: 99",
     "output_type": "error",
     "traceback": [
      "\u001b[0;31m---------------------------------------------------------------------------\u001b[0m",
      "\u001b[0;31mException\u001b[0m                                 Traceback (most recent call last)",
      "\u001b[0;32m<ipython-input-11-a5edebb47c62>\u001b[0m in \u001b[0;36m<module>\u001b[0;34m\u001b[0m\n\u001b[1;32m      2\u001b[0m \u001b[0;34m\u001b[0m\u001b[0m\n\u001b[1;32m      3\u001b[0m \u001b[0;32mif\u001b[0m \u001b[0mb\u001b[0m \u001b[0;34m<\u001b[0m \u001b[0;36m100\u001b[0m\u001b[0;34m:\u001b[0m\u001b[0;34m\u001b[0m\u001b[0;34m\u001b[0m\u001b[0m\n\u001b[0;32m----> 4\u001b[0;31m     \u001b[0;32mraise\u001b[0m \u001b[0mException\u001b[0m\u001b[0;34m(\u001b[0m\u001b[0;34m'b should not less than 100.The value of b was: {}'\u001b[0m\u001b[0;34m.\u001b[0m\u001b[0mformat\u001b[0m\u001b[0;34m(\u001b[0m\u001b[0mb\u001b[0m\u001b[0;34m)\u001b[0m\u001b[0;34m)\u001b[0m\u001b[0;34m\u001b[0m\u001b[0;34m\u001b[0m\u001b[0m\n\u001b[0m\u001b[1;32m      5\u001b[0m \u001b[0;34m\u001b[0m\u001b[0m\n",
      "\u001b[0;31mException\u001b[0m: b should not less than 100.The value of b was: 99"
     ]
    }
   ],
   "source": [
    "b =  99\n",
    "\n",
    "if b < 100:\n",
    "    raise Exception('b should not less than 100.The value of b was: {}'.format(b))\n",
    "    "
   ]
  },
  {
   "cell_type": "code",
   "execution_count": null,
   "metadata": {},
   "outputs": [],
   "source": [
    "# above exception is not looking nice so we are doing other way to represent see below"
   ]
  },
  {
   "cell_type": "markdown",
   "metadata": {},
   "source": [
    "##### The AssertionError Exception\n",
    "- Instead of waiting for a program to crash midway, you can also start by making an `assertion` in Python. \n",
    "​\n",
    "- We `assert` that a certain condition is met. \n",
    "    - If the `condition turns out to be True`, the program can `continue`. \n",
    "    - If the `condition turns out to be False`, you can have the program throw an `AssertionError exception`."
   ]
  },
  {
   "cell_type": "code",
   "execution_count": 21,
   "metadata": {},
   "outputs": [],
   "source": [
    "import sys"
   ]
  },
  {
   "cell_type": "code",
   "execution_count": 22,
   "metadata": {},
   "outputs": [
    {
     "data": {
      "text/plain": [
       "'linux'"
      ]
     },
     "execution_count": 22,
     "metadata": {},
     "output_type": "execute_result"
    }
   ],
   "source": [
    "sys.platform"
   ]
  },
  {
   "cell_type": "code",
   "execution_count": 28,
   "metadata": {},
   "outputs": [],
   "source": [
    "assert ('linux' in sys.platform), \"This code runs on Linux only.\"\n"
   ]
  },
  {
   "cell_type": "code",
   "execution_count": 32,
   "metadata": {},
   "outputs": [
    {
     "name": "stdout",
     "output_type": "stream",
     "text": [
      "We are not on linux\n"
     ]
    }
   ],
   "source": [
    "try:\n",
    "    linux()\n",
    "\n",
    "except:\n",
    "    print('We are not on linux')"
   ]
  },
  {
   "cell_type": "code",
   "execution_count": null,
   "metadata": {},
   "outputs": [],
   "source": []
  },
  {
   "cell_type": "markdown",
   "metadata": {},
   "source": [
    "##### The try and except Block: Handling Exceptions\n",
    "\n",
    "- The `try and except` block in Python is used to `catch and handle` exceptions. \n",
    "\n",
    "- Python executes code following the `try` statement as a “normal” part of the program. \n",
    "\n",
    "- The code that follows the `except` statement is the program’s response to any exceptions in the preceding try clause."
   ]
  },
  {
   "cell_type": "markdown",
   "metadata": {},
   "source": [
    "#### try: \n",
    "- RUN THIS CHUNK OF CODE.\n",
    "## except:\n",
    "- IF THERE IS AN EXCEPTION ,RUN THIS CHUNK OF CODE."
   ]
  },
  {
   "cell_type": "code",
   "execution_count": 30,
   "metadata": {},
   "outputs": [],
   "source": [
    "# The try and except Block: Handling Exceptions\n",
    "\n",
    "try:\n",
    "    pass\n",
    "\n",
    "\n",
    "except:\n",
    "    \n",
    "    \n",
    "    '''Exception handling'''"
   ]
  },
  {
   "cell_type": "markdown",
   "metadata": {},
   "source": [
    "- In addition to using an `except block` after the `try block`, you can also use the `finally block`. \n",
    "\n",
    "    - The code in the `finally block` will be executed regardless of whether an exception occurs."
   ]
  },
  {
   "cell_type": "code",
   "execution_count": 38,
   "metadata": {},
   "outputs": [],
   "source": [
    "def linux_interaction():\n",
    "    assert ('linux' in sys.platform), \"Function can only run on Linux systems.\"\n",
    "    print('Doing something.')"
   ]
  },
  {
   "cell_type": "code",
   "execution_count": 39,
   "metadata": {},
   "outputs": [
    {
     "name": "stdout",
     "output_type": "stream",
     "text": [
      "Doing something.\n"
     ]
    }
   ],
   "source": [
    "try:\n",
    "     linux_interaction()\n",
    "    \n",
    "except:\n",
    "      print('We are not on Linux, Found some error')"
   ]
  },
  {
   "cell_type": "code",
   "execution_count": 41,
   "metadata": {},
   "outputs": [],
   "source": [
    "def linux_interaction():\n",
    "    assert ('win32' in sys.platform), \"Function can only run on Linux systems.\"\n",
    "    print('Doing something.')"
   ]
  },
  {
   "cell_type": "code",
   "execution_count": 43,
   "metadata": {},
   "outputs": [
    {
     "name": "stdout",
     "output_type": "stream",
     "text": [
      "We are not on Linux, Found some error.\n"
     ]
    }
   ],
   "source": [
    "# main program\n",
    "try:\n",
    "     # normal code\n",
    "    linux_interaction()\n",
    "    \n",
    "except:\n",
    "      print('We are not on Linux, Found some error.')"
   ]
  },
  {
   "cell_type": "markdown",
   "metadata": {},
   "source": [
    "# END"
   ]
  }
 ],
 "metadata": {
  "kernelspec": {
   "display_name": "Python 3 (ipykernel)",
   "language": "python",
   "name": "python3"
  },
  "language_info": {
   "codemirror_mode": {
    "name": "ipython",
    "version": 3
   },
   "file_extension": ".py",
   "mimetype": "text/x-python",
   "name": "python",
   "nbconvert_exporter": "python",
   "pygments_lexer": "ipython3",
   "version": "3.9.7"
  }
 },
 "nbformat": 4,
 "nbformat_minor": 4
}
