{
 "cells": [
  {
   "cell_type": "markdown",
   "id": "b69d4d2b",
   "metadata": {},
   "source": [
    "-------------------\n",
    "#### Data structure\n",
    "-------------------\n",
    "\n",
    "- Any computer language provides a set of basic data types\n",
    "    - int\n",
    "    - float\n",
    "    - char\n",
    "- using the basic data types\n",
    "    - not user friendly \n",
    "    \n",
    "- Why we need `ADT`? (`Abstract Data type`)\n",
    "    - most real life data needs some ABSTRACTION (make it user friendly) "
   ]
  },
  {
   "cell_type": "code",
   "execution_count": 1,
   "id": "00cebdd3",
   "metadata": {},
   "outputs": [],
   "source": [
    "my_list = [11, 22, 22, 33, 44, 55, 66]"
   ]
  },
  {
   "cell_type": "code",
   "execution_count": 3,
   "id": "91317603",
   "metadata": {},
   "outputs": [
    {
     "name": "stdout",
     "output_type": "stream",
     "text": [
      "Collecting lolviz\n",
      "  Downloading lolviz-1.4.4.tar.gz (11 kB)\n",
      "Collecting graphviz\n",
      "  Downloading graphviz-0.20.1-py3-none-any.whl (47 kB)\n",
      "Building wheels for collected packages: lolviz\n",
      "  Building wheel for lolviz (setup.py): started\n",
      "  Building wheel for lolviz (setup.py): finished with status 'done'\n",
      "  Created wheel for lolviz: filename=lolviz-1.4.4-py3-none-any.whl size=9819 sha256=6029d7bdf3698531d77846856cdde35de00b06f20bba41673d65df5f8a2f0378\n",
      "  Stored in directory: c:\\users\\admin\\appdata\\local\\pip\\cache\\wheels\\84\\2c\\0d\\486e7857aab5801f078bde4eb1a3a1159aab8310d8bcad22e5\n",
      "Successfully built lolviz\n",
      "Installing collected packages: graphviz, lolviz\n",
      "Successfully installed graphviz-0.20.1 lolviz-1.4.4\n"
     ]
    }
   ],
   "source": [
    "!pip install lolviz"
   ]
  },
  {
   "cell_type": "code",
   "execution_count": 4,
   "id": "f33a270f",
   "metadata": {},
   "outputs": [],
   "source": [
    "import lolviz   # list of list"
   ]
  },
  {
   "cell_type": "code",
   "execution_count": 5,
   "id": "9c547ca8",
   "metadata": {},
   "outputs": [
    {
     "ename": "ExecutableNotFound",
     "evalue": "failed to execute WindowsPath('dot'), make sure the Graphviz executables are on your systems' PATH",
     "output_type": "error",
     "traceback": [
      "\u001b[1;31m---------------------------------------------------------------------------\u001b[0m",
      "\u001b[1;31mFileNotFoundError\u001b[0m                         Traceback (most recent call last)",
      "\u001b[1;32m~\\anaconda3\\lib\\site-packages\\graphviz\\backend\\execute.py\u001b[0m in \u001b[0;36mrun_check\u001b[1;34m(cmd, input_lines, encoding, quiet, **kwargs)\u001b[0m\n\u001b[0;32m     78\u001b[0m                 \u001b[0mkwargs\u001b[0m\u001b[1;33m[\u001b[0m\u001b[1;34m'stdout'\u001b[0m\u001b[1;33m]\u001b[0m \u001b[1;33m=\u001b[0m \u001b[0mkwargs\u001b[0m\u001b[1;33m[\u001b[0m\u001b[1;34m'stderr'\u001b[0m\u001b[1;33m]\u001b[0m \u001b[1;33m=\u001b[0m \u001b[0msubprocess\u001b[0m\u001b[1;33m.\u001b[0m\u001b[0mPIPE\u001b[0m\u001b[1;33m\u001b[0m\u001b[1;33m\u001b[0m\u001b[0m\n\u001b[1;32m---> 79\u001b[1;33m             \u001b[0mproc\u001b[0m \u001b[1;33m=\u001b[0m \u001b[0m_run_input_lines\u001b[0m\u001b[1;33m(\u001b[0m\u001b[0mcmd\u001b[0m\u001b[1;33m,\u001b[0m \u001b[0minput_lines\u001b[0m\u001b[1;33m,\u001b[0m \u001b[0mkwargs\u001b[0m\u001b[1;33m=\u001b[0m\u001b[0mkwargs\u001b[0m\u001b[1;33m)\u001b[0m\u001b[1;33m\u001b[0m\u001b[1;33m\u001b[0m\u001b[0m\n\u001b[0m\u001b[0;32m     80\u001b[0m         \u001b[1;32melse\u001b[0m\u001b[1;33m:\u001b[0m\u001b[1;33m\u001b[0m\u001b[1;33m\u001b[0m\u001b[0m\n",
      "\u001b[1;32m~\\anaconda3\\lib\\site-packages\\graphviz\\backend\\execute.py\u001b[0m in \u001b[0;36m_run_input_lines\u001b[1;34m(cmd, input_lines, kwargs)\u001b[0m\n\u001b[0;32m     98\u001b[0m \u001b[1;32mdef\u001b[0m \u001b[0m_run_input_lines\u001b[0m\u001b[1;33m(\u001b[0m\u001b[0mcmd\u001b[0m\u001b[1;33m,\u001b[0m \u001b[0minput_lines\u001b[0m\u001b[1;33m,\u001b[0m \u001b[1;33m*\u001b[0m\u001b[1;33m,\u001b[0m \u001b[0mkwargs\u001b[0m\u001b[1;33m)\u001b[0m\u001b[1;33m:\u001b[0m\u001b[1;33m\u001b[0m\u001b[1;33m\u001b[0m\u001b[0m\n\u001b[1;32m---> 99\u001b[1;33m     \u001b[0mpopen\u001b[0m \u001b[1;33m=\u001b[0m \u001b[0msubprocess\u001b[0m\u001b[1;33m.\u001b[0m\u001b[0mPopen\u001b[0m\u001b[1;33m(\u001b[0m\u001b[0mcmd\u001b[0m\u001b[1;33m,\u001b[0m \u001b[0mstdin\u001b[0m\u001b[1;33m=\u001b[0m\u001b[0msubprocess\u001b[0m\u001b[1;33m.\u001b[0m\u001b[0mPIPE\u001b[0m\u001b[1;33m,\u001b[0m \u001b[1;33m**\u001b[0m\u001b[0mkwargs\u001b[0m\u001b[1;33m)\u001b[0m\u001b[1;33m\u001b[0m\u001b[1;33m\u001b[0m\u001b[0m\n\u001b[0m\u001b[0;32m    100\u001b[0m \u001b[1;33m\u001b[0m\u001b[0m\n",
      "\u001b[1;32m~\\anaconda3\\lib\\subprocess.py\u001b[0m in \u001b[0;36m__init__\u001b[1;34m(self, args, bufsize, executable, stdin, stdout, stderr, preexec_fn, close_fds, shell, cwd, env, universal_newlines, startupinfo, creationflags, restore_signals, start_new_session, pass_fds, user, group, extra_groups, encoding, errors, text, umask)\u001b[0m\n\u001b[0;32m    950\u001b[0m \u001b[1;33m\u001b[0m\u001b[0m\n\u001b[1;32m--> 951\u001b[1;33m             self._execute_child(args, executable, preexec_fn, close_fds,\n\u001b[0m\u001b[0;32m    952\u001b[0m                                 \u001b[0mpass_fds\u001b[0m\u001b[1;33m,\u001b[0m \u001b[0mcwd\u001b[0m\u001b[1;33m,\u001b[0m \u001b[0menv\u001b[0m\u001b[1;33m,\u001b[0m\u001b[1;33m\u001b[0m\u001b[1;33m\u001b[0m\u001b[0m\n",
      "\u001b[1;32m~\\anaconda3\\lib\\subprocess.py\u001b[0m in \u001b[0;36m_execute_child\u001b[1;34m(self, args, executable, preexec_fn, close_fds, pass_fds, cwd, env, startupinfo, creationflags, shell, p2cread, p2cwrite, c2pread, c2pwrite, errread, errwrite, unused_restore_signals, unused_gid, unused_gids, unused_uid, unused_umask, unused_start_new_session)\u001b[0m\n\u001b[0;32m   1419\u001b[0m             \u001b[1;32mtry\u001b[0m\u001b[1;33m:\u001b[0m\u001b[1;33m\u001b[0m\u001b[1;33m\u001b[0m\u001b[0m\n\u001b[1;32m-> 1420\u001b[1;33m                 hp, ht, pid, tid = _winapi.CreateProcess(executable, args,\n\u001b[0m\u001b[0;32m   1421\u001b[0m                                          \u001b[1;31m# no special security\u001b[0m\u001b[1;33m\u001b[0m\u001b[1;33m\u001b[0m\u001b[0m\n",
      "\u001b[1;31mFileNotFoundError\u001b[0m: [WinError 2] The system cannot find the file specified",
      "\nThe above exception was the direct cause of the following exception:\n",
      "\u001b[1;31mExecutableNotFound\u001b[0m                        Traceback (most recent call last)",
      "\u001b[1;32m~\\anaconda3\\lib\\site-packages\\IPython\\core\\formatters.py\u001b[0m in \u001b[0;36m__call__\u001b[1;34m(self, obj, include, exclude)\u001b[0m\n\u001b[0;32m    968\u001b[0m \u001b[1;33m\u001b[0m\u001b[0m\n\u001b[0;32m    969\u001b[0m             \u001b[1;32mif\u001b[0m \u001b[0mmethod\u001b[0m \u001b[1;32mis\u001b[0m \u001b[1;32mnot\u001b[0m \u001b[1;32mNone\u001b[0m\u001b[1;33m:\u001b[0m\u001b[1;33m\u001b[0m\u001b[1;33m\u001b[0m\u001b[0m\n\u001b[1;32m--> 970\u001b[1;33m                 \u001b[1;32mreturn\u001b[0m \u001b[0mmethod\u001b[0m\u001b[1;33m(\u001b[0m\u001b[0minclude\u001b[0m\u001b[1;33m=\u001b[0m\u001b[0minclude\u001b[0m\u001b[1;33m,\u001b[0m \u001b[0mexclude\u001b[0m\u001b[1;33m=\u001b[0m\u001b[0mexclude\u001b[0m\u001b[1;33m)\u001b[0m\u001b[1;33m\u001b[0m\u001b[1;33m\u001b[0m\u001b[0m\n\u001b[0m\u001b[0;32m    971\u001b[0m             \u001b[1;32mreturn\u001b[0m \u001b[1;32mNone\u001b[0m\u001b[1;33m\u001b[0m\u001b[1;33m\u001b[0m\u001b[0m\n\u001b[0;32m    972\u001b[0m         \u001b[1;32melse\u001b[0m\u001b[1;33m:\u001b[0m\u001b[1;33m\u001b[0m\u001b[1;33m\u001b[0m\u001b[0m\n",
      "\u001b[1;32m~\\anaconda3\\lib\\site-packages\\graphviz\\jupyter_integration.py\u001b[0m in \u001b[0;36m_repr_mimebundle_\u001b[1;34m(self, include, exclude, **_)\u001b[0m\n\u001b[0;32m     96\u001b[0m         \u001b[0minclude\u001b[0m \u001b[1;33m=\u001b[0m \u001b[0mset\u001b[0m\u001b[1;33m(\u001b[0m\u001b[0minclude\u001b[0m\u001b[1;33m)\u001b[0m \u001b[1;32mif\u001b[0m \u001b[0minclude\u001b[0m \u001b[1;32mis\u001b[0m \u001b[1;32mnot\u001b[0m \u001b[1;32mNone\u001b[0m \u001b[1;32melse\u001b[0m \u001b[1;33m{\u001b[0m\u001b[0mself\u001b[0m\u001b[1;33m.\u001b[0m\u001b[0m_jupyter_mimetype\u001b[0m\u001b[1;33m}\u001b[0m\u001b[1;33m\u001b[0m\u001b[1;33m\u001b[0m\u001b[0m\n\u001b[0;32m     97\u001b[0m         \u001b[0minclude\u001b[0m \u001b[1;33m-=\u001b[0m \u001b[0mset\u001b[0m\u001b[1;33m(\u001b[0m\u001b[0mexclude\u001b[0m \u001b[1;32mor\u001b[0m \u001b[1;33m[\u001b[0m\u001b[1;33m]\u001b[0m\u001b[1;33m)\u001b[0m\u001b[1;33m\u001b[0m\u001b[1;33m\u001b[0m\u001b[0m\n\u001b[1;32m---> 98\u001b[1;33m         return {mimetype: getattr(self, method_name)()\n\u001b[0m\u001b[0;32m     99\u001b[0m                 \u001b[1;32mfor\u001b[0m \u001b[0mmimetype\u001b[0m\u001b[1;33m,\u001b[0m \u001b[0mmethod_name\u001b[0m \u001b[1;32min\u001b[0m \u001b[0mMIME_TYPES\u001b[0m\u001b[1;33m.\u001b[0m\u001b[0mitems\u001b[0m\u001b[1;33m(\u001b[0m\u001b[1;33m)\u001b[0m\u001b[1;33m\u001b[0m\u001b[1;33m\u001b[0m\u001b[0m\n\u001b[0;32m    100\u001b[0m                 if mimetype in include}\n",
      "\u001b[1;32m~\\anaconda3\\lib\\site-packages\\graphviz\\jupyter_integration.py\u001b[0m in \u001b[0;36m<dictcomp>\u001b[1;34m(.0)\u001b[0m\n\u001b[0;32m     96\u001b[0m         \u001b[0minclude\u001b[0m \u001b[1;33m=\u001b[0m \u001b[0mset\u001b[0m\u001b[1;33m(\u001b[0m\u001b[0minclude\u001b[0m\u001b[1;33m)\u001b[0m \u001b[1;32mif\u001b[0m \u001b[0minclude\u001b[0m \u001b[1;32mis\u001b[0m \u001b[1;32mnot\u001b[0m \u001b[1;32mNone\u001b[0m \u001b[1;32melse\u001b[0m \u001b[1;33m{\u001b[0m\u001b[0mself\u001b[0m\u001b[1;33m.\u001b[0m\u001b[0m_jupyter_mimetype\u001b[0m\u001b[1;33m}\u001b[0m\u001b[1;33m\u001b[0m\u001b[1;33m\u001b[0m\u001b[0m\n\u001b[0;32m     97\u001b[0m         \u001b[0minclude\u001b[0m \u001b[1;33m-=\u001b[0m \u001b[0mset\u001b[0m\u001b[1;33m(\u001b[0m\u001b[0mexclude\u001b[0m \u001b[1;32mor\u001b[0m \u001b[1;33m[\u001b[0m\u001b[1;33m]\u001b[0m\u001b[1;33m)\u001b[0m\u001b[1;33m\u001b[0m\u001b[1;33m\u001b[0m\u001b[0m\n\u001b[1;32m---> 98\u001b[1;33m         return {mimetype: getattr(self, method_name)()\n\u001b[0m\u001b[0;32m     99\u001b[0m                 \u001b[1;32mfor\u001b[0m \u001b[0mmimetype\u001b[0m\u001b[1;33m,\u001b[0m \u001b[0mmethod_name\u001b[0m \u001b[1;32min\u001b[0m \u001b[0mMIME_TYPES\u001b[0m\u001b[1;33m.\u001b[0m\u001b[0mitems\u001b[0m\u001b[1;33m(\u001b[0m\u001b[1;33m)\u001b[0m\u001b[1;33m\u001b[0m\u001b[1;33m\u001b[0m\u001b[0m\n\u001b[0;32m    100\u001b[0m                 if mimetype in include}\n",
      "\u001b[1;32m~\\anaconda3\\lib\\site-packages\\graphviz\\jupyter_integration.py\u001b[0m in \u001b[0;36m_repr_image_svg_xml\u001b[1;34m(self)\u001b[0m\n\u001b[0;32m    110\u001b[0m     \u001b[1;32mdef\u001b[0m \u001b[0m_repr_image_svg_xml\u001b[0m\u001b[1;33m(\u001b[0m\u001b[0mself\u001b[0m\u001b[1;33m)\u001b[0m \u001b[1;33m->\u001b[0m \u001b[0mstr\u001b[0m\u001b[1;33m:\u001b[0m\u001b[1;33m\u001b[0m\u001b[1;33m\u001b[0m\u001b[0m\n\u001b[0;32m    111\u001b[0m         \u001b[1;34m\"\"\"Return the rendered graph as SVG string.\"\"\"\u001b[0m\u001b[1;33m\u001b[0m\u001b[1;33m\u001b[0m\u001b[0m\n\u001b[1;32m--> 112\u001b[1;33m         \u001b[1;32mreturn\u001b[0m \u001b[0mself\u001b[0m\u001b[1;33m.\u001b[0m\u001b[0mpipe\u001b[0m\u001b[1;33m(\u001b[0m\u001b[0mformat\u001b[0m\u001b[1;33m=\u001b[0m\u001b[1;34m'svg'\u001b[0m\u001b[1;33m,\u001b[0m \u001b[0mencoding\u001b[0m\u001b[1;33m=\u001b[0m\u001b[0mSVG_ENCODING\u001b[0m\u001b[1;33m)\u001b[0m\u001b[1;33m\u001b[0m\u001b[1;33m\u001b[0m\u001b[0m\n\u001b[0m",
      "\u001b[1;32m~\\anaconda3\\lib\\site-packages\\graphviz\\piping.py\u001b[0m in \u001b[0;36mpipe\u001b[1;34m(self, format, renderer, formatter, neato_no_op, quiet, engine, encoding)\u001b[0m\n\u001b[0;32m    102\u001b[0m             \u001b[1;34m'<?xml version='\u001b[0m\u001b[1;33m\u001b[0m\u001b[1;33m\u001b[0m\u001b[0m\n\u001b[0;32m    103\u001b[0m         \"\"\"\n\u001b[1;32m--> 104\u001b[1;33m         return self._pipe_legacy(format,\n\u001b[0m\u001b[0;32m    105\u001b[0m                                  \u001b[0mrenderer\u001b[0m\u001b[1;33m=\u001b[0m\u001b[0mrenderer\u001b[0m\u001b[1;33m,\u001b[0m\u001b[1;33m\u001b[0m\u001b[1;33m\u001b[0m\u001b[0m\n\u001b[0;32m    106\u001b[0m                                  \u001b[0mformatter\u001b[0m\u001b[1;33m=\u001b[0m\u001b[0mformatter\u001b[0m\u001b[1;33m,\u001b[0m\u001b[1;33m\u001b[0m\u001b[1;33m\u001b[0m\u001b[0m\n",
      "\u001b[1;32m~\\anaconda3\\lib\\site-packages\\graphviz\\_tools.py\u001b[0m in \u001b[0;36mwrapper\u001b[1;34m(*args, **kwargs)\u001b[0m\n\u001b[0;32m    169\u001b[0m                               category=category)\n\u001b[0;32m    170\u001b[0m \u001b[1;33m\u001b[0m\u001b[0m\n\u001b[1;32m--> 171\u001b[1;33m             \u001b[1;32mreturn\u001b[0m \u001b[0mfunc\u001b[0m\u001b[1;33m(\u001b[0m\u001b[1;33m*\u001b[0m\u001b[0margs\u001b[0m\u001b[1;33m,\u001b[0m \u001b[1;33m**\u001b[0m\u001b[0mkwargs\u001b[0m\u001b[1;33m)\u001b[0m\u001b[1;33m\u001b[0m\u001b[1;33m\u001b[0m\u001b[0m\n\u001b[0m\u001b[0;32m    172\u001b[0m \u001b[1;33m\u001b[0m\u001b[0m\n\u001b[0;32m    173\u001b[0m         \u001b[1;32mreturn\u001b[0m \u001b[0mwrapper\u001b[0m\u001b[1;33m\u001b[0m\u001b[1;33m\u001b[0m\u001b[0m\n",
      "\u001b[1;32m~\\anaconda3\\lib\\site-packages\\graphviz\\piping.py\u001b[0m in \u001b[0;36m_pipe_legacy\u001b[1;34m(self, format, renderer, formatter, neato_no_op, quiet, engine, encoding)\u001b[0m\n\u001b[0;32m    119\u001b[0m                      \u001b[0mengine\u001b[0m\u001b[1;33m:\u001b[0m \u001b[0mtyping\u001b[0m\u001b[1;33m.\u001b[0m\u001b[0mOptional\u001b[0m\u001b[1;33m[\u001b[0m\u001b[0mstr\u001b[0m\u001b[1;33m]\u001b[0m \u001b[1;33m=\u001b[0m \u001b[1;32mNone\u001b[0m\u001b[1;33m,\u001b[0m\u001b[1;33m\u001b[0m\u001b[1;33m\u001b[0m\u001b[0m\n\u001b[0;32m    120\u001b[0m                      encoding: typing.Optional[str] = None) -> typing.Union[bytes, str]:\n\u001b[1;32m--> 121\u001b[1;33m         return self._pipe_future(format,\n\u001b[0m\u001b[0;32m    122\u001b[0m                                  \u001b[0mrenderer\u001b[0m\u001b[1;33m=\u001b[0m\u001b[0mrenderer\u001b[0m\u001b[1;33m,\u001b[0m\u001b[1;33m\u001b[0m\u001b[1;33m\u001b[0m\u001b[0m\n\u001b[0;32m    123\u001b[0m                                  \u001b[0mformatter\u001b[0m\u001b[1;33m=\u001b[0m\u001b[0mformatter\u001b[0m\u001b[1;33m,\u001b[0m\u001b[1;33m\u001b[0m\u001b[1;33m\u001b[0m\u001b[0m\n",
      "\u001b[1;32m~\\anaconda3\\lib\\site-packages\\graphviz\\piping.py\u001b[0m in \u001b[0;36m_pipe_future\u001b[1;34m(self, format, renderer, formatter, neato_no_op, quiet, engine, encoding)\u001b[0m\n\u001b[0;32m    147\u001b[0m             \u001b[1;32mif\u001b[0m \u001b[0mcodecs\u001b[0m\u001b[1;33m.\u001b[0m\u001b[0mlookup\u001b[0m\u001b[1;33m(\u001b[0m\u001b[0mencoding\u001b[0m\u001b[1;33m)\u001b[0m \u001b[1;32mis\u001b[0m \u001b[0mcodecs\u001b[0m\u001b[1;33m.\u001b[0m\u001b[0mlookup\u001b[0m\u001b[1;33m(\u001b[0m\u001b[0mself\u001b[0m\u001b[1;33m.\u001b[0m\u001b[0mencoding\u001b[0m\u001b[1;33m)\u001b[0m\u001b[1;33m:\u001b[0m\u001b[1;33m\u001b[0m\u001b[1;33m\u001b[0m\u001b[0m\n\u001b[0;32m    148\u001b[0m                 \u001b[1;31m# common case: both stdin and stdout need the same encoding\u001b[0m\u001b[1;33m\u001b[0m\u001b[1;33m\u001b[0m\u001b[0m\n\u001b[1;32m--> 149\u001b[1;33m                 \u001b[1;32mreturn\u001b[0m \u001b[0mself\u001b[0m\u001b[1;33m.\u001b[0m\u001b[0m_pipe_lines_string\u001b[0m\u001b[1;33m(\u001b[0m\u001b[1;33m*\u001b[0m\u001b[0margs\u001b[0m\u001b[1;33m,\u001b[0m \u001b[0mencoding\u001b[0m\u001b[1;33m=\u001b[0m\u001b[0mencoding\u001b[0m\u001b[1;33m,\u001b[0m \u001b[1;33m**\u001b[0m\u001b[0mkwargs\u001b[0m\u001b[1;33m)\u001b[0m\u001b[1;33m\u001b[0m\u001b[1;33m\u001b[0m\u001b[0m\n\u001b[0m\u001b[0;32m    150\u001b[0m             \u001b[1;32mtry\u001b[0m\u001b[1;33m:\u001b[0m\u001b[1;33m\u001b[0m\u001b[1;33m\u001b[0m\u001b[0m\n\u001b[0;32m    151\u001b[0m                 \u001b[0mraw\u001b[0m \u001b[1;33m=\u001b[0m \u001b[0mself\u001b[0m\u001b[1;33m.\u001b[0m\u001b[0m_pipe_lines\u001b[0m\u001b[1;33m(\u001b[0m\u001b[1;33m*\u001b[0m\u001b[0margs\u001b[0m\u001b[1;33m,\u001b[0m \u001b[0minput_encoding\u001b[0m\u001b[1;33m=\u001b[0m\u001b[0mself\u001b[0m\u001b[1;33m.\u001b[0m\u001b[0mencoding\u001b[0m\u001b[1;33m,\u001b[0m \u001b[1;33m**\u001b[0m\u001b[0mkwargs\u001b[0m\u001b[1;33m)\u001b[0m\u001b[1;33m\u001b[0m\u001b[1;33m\u001b[0m\u001b[0m\n",
      "\u001b[1;32m~\\anaconda3\\lib\\site-packages\\graphviz\\backend\\piping.py\u001b[0m in \u001b[0;36mpipe_lines_string\u001b[1;34m(engine, format, input_lines, encoding, renderer, formatter, neato_no_op, quiet)\u001b[0m\n\u001b[0;32m    210\u001b[0m     \u001b[0mkwargs\u001b[0m \u001b[1;33m=\u001b[0m \u001b[1;33m{\u001b[0m\u001b[1;34m'input_lines'\u001b[0m\u001b[1;33m:\u001b[0m \u001b[0minput_lines\u001b[0m\u001b[1;33m,\u001b[0m \u001b[1;34m'encoding'\u001b[0m\u001b[1;33m:\u001b[0m \u001b[0mencoding\u001b[0m\u001b[1;33m}\u001b[0m\u001b[1;33m\u001b[0m\u001b[1;33m\u001b[0m\u001b[0m\n\u001b[0;32m    211\u001b[0m \u001b[1;33m\u001b[0m\u001b[0m\n\u001b[1;32m--> 212\u001b[1;33m     \u001b[0mproc\u001b[0m \u001b[1;33m=\u001b[0m \u001b[0mexecute\u001b[0m\u001b[1;33m.\u001b[0m\u001b[0mrun_check\u001b[0m\u001b[1;33m(\u001b[0m\u001b[0mcmd\u001b[0m\u001b[1;33m,\u001b[0m \u001b[0mcapture_output\u001b[0m\u001b[1;33m=\u001b[0m\u001b[1;32mTrue\u001b[0m\u001b[1;33m,\u001b[0m \u001b[0mquiet\u001b[0m\u001b[1;33m=\u001b[0m\u001b[0mquiet\u001b[0m\u001b[1;33m,\u001b[0m \u001b[1;33m**\u001b[0m\u001b[0mkwargs\u001b[0m\u001b[1;33m)\u001b[0m\u001b[1;33m\u001b[0m\u001b[1;33m\u001b[0m\u001b[0m\n\u001b[0m\u001b[0;32m    213\u001b[0m     \u001b[1;32mreturn\u001b[0m \u001b[0mproc\u001b[0m\u001b[1;33m.\u001b[0m\u001b[0mstdout\u001b[0m\u001b[1;33m\u001b[0m\u001b[1;33m\u001b[0m\u001b[0m\n",
      "\u001b[1;32m~\\anaconda3\\lib\\site-packages\\graphviz\\backend\\execute.py\u001b[0m in \u001b[0;36mrun_check\u001b[1;34m(cmd, input_lines, encoding, quiet, **kwargs)\u001b[0m\n\u001b[0;32m     82\u001b[0m     \u001b[1;32mexcept\u001b[0m \u001b[0mOSError\u001b[0m \u001b[1;32mas\u001b[0m \u001b[0me\u001b[0m\u001b[1;33m:\u001b[0m\u001b[1;33m\u001b[0m\u001b[1;33m\u001b[0m\u001b[0m\n\u001b[0;32m     83\u001b[0m         \u001b[1;32mif\u001b[0m \u001b[0me\u001b[0m\u001b[1;33m.\u001b[0m\u001b[0merrno\u001b[0m \u001b[1;33m==\u001b[0m \u001b[0merrno\u001b[0m\u001b[1;33m.\u001b[0m\u001b[0mENOENT\u001b[0m\u001b[1;33m:\u001b[0m\u001b[1;33m\u001b[0m\u001b[1;33m\u001b[0m\u001b[0m\n\u001b[1;32m---> 84\u001b[1;33m             \u001b[1;32mraise\u001b[0m \u001b[0mExecutableNotFound\u001b[0m\u001b[1;33m(\u001b[0m\u001b[0mcmd\u001b[0m\u001b[1;33m)\u001b[0m \u001b[1;32mfrom\u001b[0m \u001b[0me\u001b[0m\u001b[1;33m\u001b[0m\u001b[1;33m\u001b[0m\u001b[0m\n\u001b[0m\u001b[0;32m     85\u001b[0m         \u001b[1;32mraise\u001b[0m\u001b[1;33m\u001b[0m\u001b[1;33m\u001b[0m\u001b[0m\n\u001b[0;32m     86\u001b[0m \u001b[1;33m\u001b[0m\u001b[0m\n",
      "\u001b[1;31mExecutableNotFound\u001b[0m: failed to execute WindowsPath('dot'), make sure the Graphviz executables are on your systems' PATH"
     ]
    },
    {
     "data": {
      "text/plain": [
       "<graphviz.sources.Source at 0x21f326ed940>"
      ]
     },
     "execution_count": 5,
     "metadata": {},
     "output_type": "execute_result"
    }
   ],
   "source": [
    "lolviz.objviz(my_list)"
   ]
  },
  {
   "cell_type": "markdown",
   "id": "0200af4b",
   "metadata": {},
   "source": [
    "LISTS"
   ]
  },
  {
   "cell_type": "markdown",
   "id": "749b9137",
   "metadata": {},
   "source": [
    "A list is a data structure in Python that is a mutable or changeable. Each element or value that is inside of a list is called an item, lists are defined by having values between square brackets[]"
   ]
  },
  {
   "cell_type": "code",
   "execution_count": null,
   "id": "6ca2db61",
   "metadata": {},
   "outputs": [],
   "source": [
    "type()"
   ]
  },
  {
   "cell_type": "code",
   "execution_count": 3,
   "id": "75de37fd",
   "metadata": {},
   "outputs": [],
   "source": [
    "l_eg = []"
   ]
  },
  {
   "cell_type": "code",
   "execution_count": 4,
   "id": "c88aea28",
   "metadata": {},
   "outputs": [
    {
     "data": {
      "text/plain": [
       "list"
      ]
     },
     "execution_count": 4,
     "metadata": {},
     "output_type": "execute_result"
    }
   ],
   "source": [
    "type(l_eg)"
   ]
  },
  {
   "cell_type": "code",
   "execution_count": 5,
   "id": "41c5a9b9",
   "metadata": {},
   "outputs": [],
   "source": [
    "lst = list()"
   ]
  },
  {
   "cell_type": "code",
   "execution_count": 6,
   "id": "a57a24d8",
   "metadata": {},
   "outputs": [
    {
     "data": {
      "text/plain": [
       "list"
      ]
     },
     "execution_count": 6,
     "metadata": {},
     "output_type": "execute_result"
    }
   ],
   "source": [
    "type(lst)"
   ]
  },
  {
   "cell_type": "code",
   "execution_count": 9,
   "id": "08956877",
   "metadata": {},
   "outputs": [
    {
     "data": {
      "text/plain": [
       "[]"
      ]
     },
     "execution_count": 9,
     "metadata": {},
     "output_type": "execute_result"
    }
   ],
   "source": [
    "# empty list\n",
    "my_list = []\n",
    "my_list"
   ]
  },
  {
   "cell_type": "code",
   "execution_count": 8,
   "id": "e2e33663",
   "metadata": {},
   "outputs": [
    {
     "data": {
      "text/plain": [
       "[1, 2, 3]"
      ]
     },
     "execution_count": 8,
     "metadata": {},
     "output_type": "execute_result"
    }
   ],
   "source": [
    "# list of integers\n",
    "my_list = [1, 2, 3]\n",
    "my_list"
   ]
  },
  {
   "cell_type": "code",
   "execution_count": 8,
   "id": "8c7f3a72",
   "metadata": {},
   "outputs": [
    {
     "data": {
      "text/plain": [
       "[1, 'Hello', 3.4]"
      ]
     },
     "execution_count": 8,
     "metadata": {},
     "output_type": "execute_result"
    }
   ],
   "source": [
    "# list with mixed datatypes\n",
    "my_list = [1, \"Hello\", 3.4]    # is this useful in DS\n",
    "my_list"
   ]
  },
  {
   "cell_type": "code",
   "execution_count": 9,
   "id": "c9294892",
   "metadata": {},
   "outputs": [
    {
     "data": {
      "text/plain": [
       "list"
      ]
     },
     "execution_count": 9,
     "metadata": {},
     "output_type": "execute_result"
    }
   ],
   "source": [
    "type(my_list)"
   ]
  },
  {
   "cell_type": "code",
   "execution_count": 10,
   "id": "acae40b2",
   "metadata": {},
   "outputs": [
    {
     "data": {
      "text/plain": [
       "3"
      ]
     },
     "execution_count": 10,
     "metadata": {},
     "output_type": "execute_result"
    }
   ],
   "source": [
    "len(my_list)"
   ]
  },
  {
   "cell_type": "code",
   "execution_count": 11,
   "id": "3ef2868d",
   "metadata": {},
   "outputs": [
    {
     "data": {
      "text/plain": [
       "['Happy', [2, 0, 1, 5]]"
      ]
     },
     "execution_count": 11,
     "metadata": {},
     "output_type": "execute_result"
    }
   ],
   "source": [
    "# nested list\n",
    "n_list = [\"Happy\", [2,0,1,5]]\n",
    "n_list"
   ]
  },
  {
   "cell_type": "code",
   "execution_count": 12,
   "id": "35e8451b",
   "metadata": {},
   "outputs": [
    {
     "name": "stdout",
     "output_type": "stream",
     "text": [
      "1\n",
      "Hello\n",
      "3.4\n"
     ]
    }
   ],
   "source": [
    "for i in my_list:\n",
    "    print(i)"
   ]
  },
  {
   "cell_type": "code",
   "execution_count": 13,
   "id": "768c6328",
   "metadata": {},
   "outputs": [
    {
     "name": "stdout",
     "output_type": "stream",
     "text": [
      "Happy\n",
      "[2, 0, 1, 5]\n"
     ]
    }
   ],
   "source": [
    "for x in n_list:\n",
    "    print(x)"
   ]
  },
  {
   "cell_type": "code",
   "execution_count": 16,
   "id": "c3b22302",
   "metadata": {},
   "outputs": [
    {
     "name": "stdout",
     "output_type": "stream",
     "text": [
      "I have 4 items to purchase.\n",
      "These items are: ['apple', 'mango', 'carrot', 'banana']\n"
     ]
    }
   ],
   "source": [
    "lst = ['apple', 'mango', 'carrot', 'banana']\n",
    "print('I have 4 items to purchase.')\n",
    "print('These items are:', lst)\n"
   ]
  },
  {
   "cell_type": "code",
   "execution_count": 18,
   "id": "3a63e780",
   "metadata": {},
   "outputs": [
    {
     "name": "stdout",
     "output_type": "stream",
     "text": [
      "I have 4 items to purchase.\n",
      "These items are:\n",
      "apple : mango : carrot : banana : "
     ]
    }
   ],
   "source": [
    "lst = ['apple', 'mango', 'carrot', 'banana']\n",
    "print('I have', len(lst), 'items to purchase.')\n",
    "print('These items are:')\n",
    "\n",
    "for item in lst:\n",
    "    print(item, end=' : ')\n",
    "   "
   ]
  },
  {
   "cell_type": "code",
   "execution_count": 19,
   "id": "ce705937",
   "metadata": {},
   "outputs": [],
   "source": [
    "# By default python’s print() function ends with a newline. \n",
    "# how to print without newline.\n",
    "\n",
    "# Python’s print() function comes with a parameter called ‘end’. "
   ]
  },
  {
   "cell_type": "code",
   "execution_count": 20,
   "id": "4f665014",
   "metadata": {},
   "outputs": [
    {
     "name": "stdout",
     "output_type": "stream",
     "text": [
      "Welcome to.....GeeksforGeeks\n"
     ]
    }
   ],
   "source": [
    "print('Welcome to', end= '.....')\n",
    "print('GeeksforGeeks')"
   ]
  },
  {
   "cell_type": "code",
   "execution_count": 21,
   "id": "e2bf82b6",
   "metadata": {},
   "outputs": [
    {
     "name": "stdout",
     "output_type": "stream",
     "text": [
      "Welcome to\n",
      "GeeksforGeeks\n"
     ]
    }
   ],
   "source": [
    "print('Welcome to')\n",
    "print('GeeksforGeeks')"
   ]
  },
  {
   "cell_type": "code",
   "execution_count": 25,
   "id": "07ad7bb7",
   "metadata": {},
   "outputs": [],
   "source": [
    "shoplst = ['apple', 'mango', 'carrot', 'banana']"
   ]
  },
  {
   "cell_type": "markdown",
   "id": "db2f6b41",
   "metadata": {},
   "source": [
    "**Append is used to add elements in the list."
   ]
  },
  {
   "cell_type": "code",
   "execution_count": 19,
   "id": "44669ad1",
   "metadata": {},
   "outputs": [],
   "source": [
    "l1 = ['Mathematics', 'Chemistry', 100, 200, 300, 400]# by default dd elements at last"
   ]
  },
  {
   "cell_type": "code",
   "execution_count": 20,
   "id": "76c8be12",
   "metadata": {},
   "outputs": [
    {
     "data": {
      "text/plain": [
       "['Mathematics', 'Chemistry', 100, 200, 300, 400, 'Physics']"
      ]
     },
     "execution_count": 20,
     "metadata": {},
     "output_type": "execute_result"
    }
   ],
   "source": [
    "l1.append('Physics')\n",
    "l1"
   ]
  },
  {
   "cell_type": "markdown",
   "id": "f95fe942",
   "metadata": {},
   "source": [
    "**Insert"
   ]
  },
  {
   "cell_type": "code",
   "execution_count": 21,
   "id": "93cd4f0b",
   "metadata": {},
   "outputs": [
    {
     "data": {
      "text/plain": [
       "['Mathematics', 'Chemistry', 'Physics', 100, 200, 300, 400, 'Physics']"
      ]
     },
     "execution_count": 21,
     "metadata": {},
     "output_type": "execute_result"
    }
   ],
   "source": [
    "## insert in a specific order\n",
    "l1.insert(2,'Physics')\n",
    "l1"
   ]
  },
  {
   "cell_type": "markdown",
   "id": "d83beaf9",
   "metadata": {},
   "source": [
    "### Indexing in list"
   ]
  },
  {
   "cell_type": "code",
   "execution_count": 22,
   "id": "79009c5c",
   "metadata": {},
   "outputs": [
    {
     "data": {
      "text/plain": [
       "'Physics'"
      ]
     },
     "execution_count": 22,
     "metadata": {},
     "output_type": "execute_result"
    }
   ],
   "source": [
    "l1[2]"
   ]
  },
  {
   "cell_type": "code",
   "execution_count": 23,
   "id": "a51ee4a2",
   "metadata": {},
   "outputs": [
    {
     "data": {
      "text/plain": [
       "200"
      ]
     },
     "execution_count": 23,
     "metadata": {},
     "output_type": "execute_result"
    }
   ],
   "source": [
    "l1[4]"
   ]
  },
  {
   "cell_type": "code",
   "execution_count": 24,
   "id": "1a24da66",
   "metadata": {},
   "outputs": [
    {
     "data": {
      "text/plain": [
       "['Chemistry', 'Physics', 100, 200, 300, 400, 'Physics']"
      ]
     },
     "execution_count": 24,
     "metadata": {},
     "output_type": "execute_result"
    }
   ],
   "source": [
    "l1[1:]"
   ]
  },
  {
   "cell_type": "code",
   "execution_count": 25,
   "id": "d35a37c1",
   "metadata": {},
   "outputs": [
    {
     "data": {
      "text/plain": [
       "['Chemistry', 'Physics', 100, 200]"
      ]
     },
     "execution_count": 25,
     "metadata": {},
     "output_type": "execute_result"
    }
   ],
   "source": [
    "l1[1:5]"
   ]
  },
  {
   "cell_type": "code",
   "execution_count": 26,
   "id": "6e59992f",
   "metadata": {},
   "outputs": [
    {
     "data": {
      "text/plain": [
       "['Chemistry', 'Physics', 100, 200, 300]"
      ]
     },
     "execution_count": 26,
     "metadata": {},
     "output_type": "execute_result"
    }
   ],
   "source": [
    "l1[1: 6]"
   ]
  },
  {
   "cell_type": "code",
   "execution_count": 29,
   "id": "5206e578",
   "metadata": {},
   "outputs": [
    {
     "data": {
      "text/plain": [
       "['Mathematics',\n",
       " 'Chemistry',\n",
       " 'Physics',\n",
       " 100,\n",
       " 200,\n",
       " 300,\n",
       " 400,\n",
       " 'Physics',\n",
       " ['Kerala', 'Mysore']]"
      ]
     },
     "execution_count": 29,
     "metadata": {},
     "output_type": "execute_result"
    }
   ],
   "source": [
    "l1.append(['Kerala', 'Mysore'])\n",
    "l1"
   ]
  },
  {
   "cell_type": "markdown",
   "id": "e3c2e2f2",
   "metadata": {},
   "source": [
    "#### Extend Method"
   ]
  },
  {
   "cell_type": "code",
   "execution_count": 31,
   "id": "e8d6b044",
   "metadata": {},
   "outputs": [],
   "source": [
    "a = [1, 2, 3, 4, 5, 6, 7]"
   ]
  },
  {
   "cell_type": "code",
   "execution_count": 32,
   "id": "22b164b9",
   "metadata": {},
   "outputs": [
    {
     "data": {
      "text/plain": [
       "[1, 2, 3, 4, 5, 6, 7, 8, 9]"
      ]
     },
     "execution_count": 32,
     "metadata": {},
     "output_type": "execute_result"
    }
   ],
   "source": [
    "a.extend([8 , 9]) #separately added on the list\n",
    "a"
   ]
  },
  {
   "cell_type": "markdown",
   "id": "307ada56",
   "metadata": {},
   "source": [
    "#### Various operation that we can perform in List"
   ]
  },
  {
   "cell_type": "code",
   "execution_count": 33,
   "id": "ec18331a",
   "metadata": {},
   "outputs": [
    {
     "data": {
      "text/plain": [
       "45"
      ]
     },
     "execution_count": 33,
     "metadata": {},
     "output_type": "execute_result"
    }
   ],
   "source": [
    "sum(a)"
   ]
  },
  {
   "cell_type": "markdown",
   "id": "31ce796c",
   "metadata": {},
   "source": [
    "### Pop()"
   ]
  },
  {
   "cell_type": "code",
   "execution_count": 34,
   "id": "7da958af",
   "metadata": {},
   "outputs": [
    {
     "data": {
      "text/plain": [
       "[1, 2, 3, 4, 5, 6, 7, 8]"
      ]
     },
     "execution_count": 34,
     "metadata": {},
     "output_type": "execute_result"
    }
   ],
   "source": [
    "a.pop()#[1, 2, 3, 4, 5, 6, 7, 8, 9]\n",
    "a"
   ]
  },
  {
   "cell_type": "code",
   "execution_count": 35,
   "id": "74c9a24f",
   "metadata": {},
   "outputs": [
    {
     "data": {
      "text/plain": [
       "1"
      ]
     },
     "execution_count": 35,
     "metadata": {},
     "output_type": "execute_result"
    }
   ],
   "source": [
    "a.pop(0)"
   ]
  },
  {
   "cell_type": "code",
   "execution_count": 36,
   "id": "71b76646",
   "metadata": {},
   "outputs": [
    {
     "data": {
      "text/plain": [
       "[2, 3, 4, 5, 6, 7, 8]"
      ]
     },
     "execution_count": 36,
     "metadata": {},
     "output_type": "execute_result"
    }
   ],
   "source": [
    "a"
   ]
  },
  {
   "cell_type": "code",
   "execution_count": 38,
   "id": "929ffc6b",
   "metadata": {},
   "outputs": [
    {
     "data": {
      "text/plain": [
       "1"
      ]
     },
     "execution_count": 38,
     "metadata": {},
     "output_type": "execute_result"
    }
   ],
   "source": [
    "a = [2, 3, 4, 5, 6, 7, 8]\n",
    "a.count(2)"
   ]
  },
  {
   "cell_type": "code",
   "execution_count": 39,
   "id": "5d1ddb57",
   "metadata": {},
   "outputs": [
    {
     "data": {
      "text/plain": [
       "7"
      ]
     },
     "execution_count": 39,
     "metadata": {},
     "output_type": "execute_result"
    }
   ],
   "source": [
    "len(a)"
   ]
  },
  {
   "cell_type": "code",
   "execution_count": 40,
   "id": "60237a05",
   "metadata": {},
   "outputs": [],
   "source": [
    "# Index : Return the index of first occurrence. start and end index are not necessary parameters."
   ]
  },
  {
   "cell_type": "code",
   "execution_count": 42,
   "id": "93bfe513",
   "metadata": {},
   "outputs": [],
   "source": [
    "b  = [1, 1, 2, 4, 5, 4]"
   ]
  },
  {
   "cell_type": "code",
   "execution_count": 45,
   "id": "9e7dee47",
   "metadata": {},
   "outputs": [
    {
     "data": {
      "text/plain": [
       "3"
      ]
     },
     "execution_count": 45,
     "metadata": {},
     "output_type": "execute_result"
    }
   ],
   "source": [
    "b.index(4, 0, 5)"
   ]
  },
  {
   "cell_type": "code",
   "execution_count": 46,
   "id": "113ba485",
   "metadata": {},
   "outputs": [
    {
     "data": {
      "text/plain": [
       "2"
      ]
     },
     "execution_count": 46,
     "metadata": {},
     "output_type": "execute_result"
    }
   ],
   "source": [
    "b. index(2, 0, 6)"
   ]
  },
  {
   "cell_type": "code",
   "execution_count": 48,
   "id": "d60136fd",
   "metadata": {},
   "outputs": [
    {
     "data": {
      "text/plain": [
       "[1, 1, 2, 4, 5, 4, 1, 1, 2, 4, 5, 4]"
      ]
     },
     "execution_count": 48,
     "metadata": {},
     "output_type": "execute_result"
    }
   ],
   "source": [
    "b = [1, 1, 2, 4, 5, 4]\n",
    "b * 2"
   ]
  },
  {
   "cell_type": "code",
   "execution_count": null,
   "id": "7eedd0ae",
   "metadata": {},
   "outputs": [],
   "source": [
    "# append to list\n",
    "# add one item to a list using append() method or \n",
    "# add several items using extend()"
   ]
  },
  {
   "cell_type": "code",
   "execution_count": null,
   "id": "14ba9029",
   "metadata": {},
   "outputs": [],
   "source": [
    "shoplst = ['apple', 'mango', 'carrot', 'banana']"
   ]
  },
  {
   "cell_type": "code",
   "execution_count": 26,
   "id": "a38f4275",
   "metadata": {},
   "outputs": [
    {
     "name": "stdout",
     "output_type": "stream",
     "text": [
      "I also have to buy rice.\n",
      "My shopping list is now ['apple', 'mango', 'carrot', 'banana', 'rice']\n",
      "My shopping list is now ['apple', 'mango', 'carrot', 'banana', 'rice', 'table', 'chair', 'pen']\n",
      "My shopping list is now ['apple', 'mango', 'carrot', 'banana', 'rice', 'table', 'chair', 'pen', 'a', 'b', 'c']\n"
     ]
    }
   ],
   "source": [
    "print('I also have to buy rice.')\n",
    "shoplst.append('rice')\n",
    "print('My shopping list is now', shoplst)\n",
    "shoplst.extend(['table', 'chair', 'pen'])\n",
    "print('My shopping list is now', shoplst)\n",
    "shoplst.extend(['a', 'b', 'c'])\n",
    "print('My shopping list is now', shoplst)"
   ]
  },
  {
   "cell_type": "code",
   "execution_count": 27,
   "id": "9ef78e0e",
   "metadata": {},
   "outputs": [
    {
     "name": "stdout",
     "output_type": "stream",
     "text": [
      "I also have to buy rice.\n",
      "My shopping list is now ['apple', 'mango', 'carrot', 'banana', 'rice']\n",
      "My shopping list is now ['apple', 'mango', 'carrot', 'banana', 'rice', 'table', 'chair', 'pen']\n",
      "My shopping list is now ['apple', 'mango', 'carrot', 'banana', 'rice', 'table', 'chair', 'pen', 'a', 'b', 'c']\n"
     ]
    }
   ],
   "source": [
    "shoplist = ['apple', 'mango', 'carrot', 'banana']\n",
    "print('I also have to buy rice.')\n",
    "\n",
    "shoplist.append('rice')\n",
    "print('My shopping list is now', shoplist)\n",
    "\n",
    "shoplist.extend(['table', 'chair', 'pen'])\n",
    "print('My shopping list is now', shoplist)\n",
    "\n",
    "# use + operator to combine two lists. This is also called concatenation.\n",
    "shoplist1 = ['a', 'b', 'c']\n",
    "\n",
    "shoplist = shoplist + shoplist1\n",
    "print('My shopping list is now', shoplist)"
   ]
  },
  {
   "cell_type": "code",
   "execution_count": 29,
   "id": "b621c6d8",
   "metadata": {},
   "outputs": [
    {
     "data": {
      "text/plain": [
       "[10, 20, 30, 40, 50, 60, 70, 80, 90, 100]"
      ]
     },
     "execution_count": 29,
     "metadata": {},
     "output_type": "execute_result"
    }
   ],
   "source": [
    "num = [10, 20, 30, 40, 50, 60, 70, 80, 90, 100]\n",
    "num[:]"
   ]
  },
  {
   "cell_type": "code",
   "execution_count": 30,
   "id": "771885c7",
   "metadata": {},
   "outputs": [
    {
     "data": {
      "text/plain": [
       "[10, 20, 30, 40, 50, 60, 70, 80, 90, 100]"
      ]
     },
     "execution_count": 30,
     "metadata": {},
     "output_type": "execute_result"
    }
   ],
   "source": [
    "num[0:]"
   ]
  },
  {
   "cell_type": "code",
   "execution_count": 31,
   "id": "dfc25c2f",
   "metadata": {},
   "outputs": [
    {
     "data": {
      "text/plain": [
       "[20, 30, 40]"
      ]
     },
     "execution_count": 31,
     "metadata": {},
     "output_type": "execute_result"
    }
   ],
   "source": [
    "num = [10, 20, 30, 40, 50, 60, 70, 80, 90, 100]\n",
    "num[1:4]"
   ]
  },
  {
   "cell_type": "code",
   "execution_count": 32,
   "id": "f2daacdc",
   "metadata": {},
   "outputs": [
    {
     "data": {
      "text/plain": [
       "10"
      ]
     },
     "execution_count": 32,
     "metadata": {},
     "output_type": "execute_result"
    }
   ],
   "source": [
    "len(num)"
   ]
  },
  {
   "cell_type": "code",
   "execution_count": 33,
   "id": "04ead5cb",
   "metadata": {},
   "outputs": [
    {
     "data": {
      "text/plain": [
       "[10, 40, 70, 100]"
      ]
     },
     "execution_count": 33,
     "metadata": {},
     "output_type": "execute_result"
    }
   ],
   "source": [
    "num = [10, 20, 30, 40, 50, 60, 70, 80, 90, 100]\n",
    "num[0 : 10: 3]"
   ]
  },
  {
   "cell_type": "markdown",
   "id": "e3d97f3a",
   "metadata": {},
   "source": [
    "#### The full slice syntax is--> start : stop : step"
   ]
  },
  {
   "cell_type": "markdown",
   "id": "4b822514",
   "metadata": {},
   "source": [
    "- start refers to the index of the element which is used as a start of our slice. \n",
    "- stop refers to the index of the element we should stop just before to finish our slice. \n",
    "- step allows you to take each nth-element within a start:stop range."
   ]
  },
  {
   "cell_type": "code",
   "execution_count": 34,
   "id": "a586ce18",
   "metadata": {},
   "outputs": [
    {
     "data": {
      "text/plain": [
       "[10, 20, 30, 40, 50]"
      ]
     },
     "execution_count": 34,
     "metadata": {},
     "output_type": "execute_result"
    }
   ],
   "source": [
    "num[:5] #So, num[:5] is equivalent to num[0:5]. "
   ]
  },
  {
   "cell_type": "code",
   "execution_count": null,
   "id": "75106ed6",
   "metadata": {},
   "outputs": [],
   "source": [
    "num = [10, 20, 30, 40, 50, 60, 70, 80, 90, 100]\n",
    "num[3:5:2]"
   ]
  },
  {
   "cell_type": "code",
   "execution_count": 35,
   "id": "8f064706",
   "metadata": {},
   "outputs": [
    {
     "data": {
      "text/plain": [
       "[20, 30, 40, 50, 60, 70, 80]"
      ]
     },
     "execution_count": 35,
     "metadata": {},
     "output_type": "execute_result"
    }
   ],
   "source": [
    "num[1:-2]"
   ]
  },
  {
   "cell_type": "code",
   "execution_count": 36,
   "id": "a31960aa",
   "metadata": {},
   "outputs": [
    {
     "data": {
      "text/plain": [
       "[80]"
      ]
     },
     "execution_count": 36,
     "metadata": {},
     "output_type": "execute_result"
    }
   ],
   "source": [
    "num[-3:8]"
   ]
  },
  {
   "cell_type": "code",
   "execution_count": 37,
   "id": "6b6ab7d1",
   "metadata": {},
   "outputs": [
    {
     "data": {
      "text/plain": [
       "[70, 80]"
      ]
     },
     "execution_count": 37,
     "metadata": {},
     "output_type": "execute_result"
    }
   ],
   "source": [
    "nums = [10, 20, 30, 40, 50, 60, 70, 80, 90]\n",
    "nums[-3:8]"
   ]
  },
  {
   "cell_type": "code",
   "execution_count": 38,
   "id": "aef65a13",
   "metadata": {},
   "outputs": [
    {
     "data": {
      "text/plain": [
       "[50, 60, 70, 80]"
      ]
     },
     "execution_count": 38,
     "metadata": {},
     "output_type": "execute_result"
    }
   ],
   "source": [
    "nums[-5:-1]"
   ]
  },
  {
   "cell_type": "code",
   "execution_count": 39,
   "id": "2897ea62",
   "metadata": {},
   "outputs": [
    {
     "data": {
      "text/plain": [
       "[10, 20, 30, 40, 50, 60, 70]"
      ]
     },
     "execution_count": 39,
     "metadata": {},
     "output_type": "execute_result"
    }
   ],
   "source": [
    "nums[:-2]"
   ]
  },
  {
   "cell_type": "code",
   "execution_count": null,
   "id": "c6ccc45c",
   "metadata": {},
   "outputs": [],
   "source": [
    "nums = [10, 20, 30, 40, 50, 60, 70, 80, 90]\n"
   ]
  },
  {
   "cell_type": "markdown",
   "id": "7c40a7e6",
   "metadata": {},
   "source": [
    "#### Taking every nth-element of a list\n",
    "What if we want to have only every 2-nd element of nums? This is where the step parameter comes into play:"
   ]
  },
  {
   "cell_type": "code",
   "execution_count": 40,
   "id": "05ea1523",
   "metadata": {},
   "outputs": [
    {
     "data": {
      "text/plain": [
       "[10, 30, 50, 70, 90]"
      ]
     },
     "execution_count": 40,
     "metadata": {},
     "output_type": "execute_result"
    }
   ],
   "source": [
    "nums[: : 2]"
   ]
  },
  {
   "cell_type": "markdown",
   "id": "baf1eee6",
   "metadata": {},
   "source": [
    "Here we omit start/stop parameters and use only step.\n",
    "\n",
    "By providing start we can skip some elements:"
   ]
  },
  {
   "cell_type": "code",
   "execution_count": 41,
   "id": "39e6e076",
   "metadata": {},
   "outputs": [
    {
     "data": {
      "text/plain": [
       "[10, 30, 50, 70, 90]"
      ]
     },
     "execution_count": 41,
     "metadata": {},
     "output_type": "execute_result"
    }
   ],
   "source": [
    "nums[: : 2]"
   ]
  },
  {
   "cell_type": "code",
   "execution_count": 42,
   "id": "c335314d",
   "metadata": {},
   "outputs": [
    {
     "data": {
      "text/plain": [
       "[20, 40, 60, 80]"
      ]
     },
     "execution_count": 42,
     "metadata": {},
     "output_type": "execute_result"
    }
   ],
   "source": [
    "nums = [10, 20, 30, 40, 50, 60, 70, 80, 90]\n",
    "nums[1: : 2]"
   ]
  },
  {
   "cell_type": "code",
   "execution_count": 43,
   "id": "f7327080",
   "metadata": {},
   "outputs": [
    {
     "data": {
      "text/plain": [
       "[20, 40, 60]"
      ]
     },
     "execution_count": 43,
     "metadata": {},
     "output_type": "execute_result"
    }
   ],
   "source": [
    "nums[1:-3:2]"
   ]
  },
  {
   "cell_type": "markdown",
   "id": "8b9ae34b",
   "metadata": {},
   "source": [
    "#### Using Negative Step and Reversed List"
   ]
  },
  {
   "cell_type": "code",
   "execution_count": 44,
   "id": "76c7fd9c",
   "metadata": {},
   "outputs": [],
   "source": [
    "nums = [10, 20, 30, 40, 50, 60, 70, 80, 90]"
   ]
  },
  {
   "cell_type": "code",
   "execution_count": null,
   "id": "fc2fb004",
   "metadata": {},
   "outputs": [],
   "source": [
    "nums[ : : -2]"
   ]
  },
  {
   "cell_type": "markdown",
   "id": "b52d2498",
   "metadata": {},
   "source": [
    "#### It goes from the last element to the first element. That’s why we get a reversed list with a negative step."
   ]
  },
  {
   "cell_type": "code",
   "execution_count": 45,
   "id": "21e27856",
   "metadata": {},
   "outputs": [
    {
     "data": {
      "text/plain": [
       "[80, 70, 60, 50, 40, 30, 20, 10]"
      ]
     },
     "execution_count": 45,
     "metadata": {},
     "output_type": "execute_result"
    }
   ],
   "source": [
    "nums[-2::-1]"
   ]
  },
  {
   "cell_type": "code",
   "execution_count": null,
   "id": "012b792d",
   "metadata": {},
   "outputs": [],
   "source": [
    "nums[-2:1:-1]"
   ]
  },
  {
   "cell_type": "code",
   "execution_count": 46,
   "id": "3ace4351",
   "metadata": {},
   "outputs": [
    {
     "data": {
      "text/plain": [
       "['apple',\n",
       " 'mango',\n",
       " 'carrot',\n",
       " 'banana',\n",
       " 'rice',\n",
       " 'table',\n",
       " 'chair',\n",
       " 'pen',\n",
       " 'a',\n",
       " 'b',\n",
       " 'c']"
      ]
     },
     "execution_count": 46,
     "metadata": {},
     "output_type": "execute_result"
    }
   ],
   "source": [
    "shoplist"
   ]
  },
  {
   "cell_type": "code",
   "execution_count": 47,
   "id": "6ef65f17",
   "metadata": {},
   "outputs": [
    {
     "name": "stdout",
     "output_type": "stream",
     "text": [
      "apple\n",
      "mango\n",
      "p\n",
      "g\n"
     ]
    }
   ],
   "source": [
    "# accessing a list\n",
    "print(shoplist[0])\n",
    "print(shoplist[1])\n",
    "\n",
    "print(shoplist[0][1])    \n",
    "\n",
    "print(shoplist[1][3])"
   ]
  },
  {
   "cell_type": "code",
   "execution_count": 48,
   "id": "a7aaa131",
   "metadata": {},
   "outputs": [
    {
     "name": "stdout",
     "output_type": "stream",
     "text": [
      "c\n",
      "chair\n"
     ]
    }
   ],
   "source": [
    "print(shoplist[-1])\n",
    "print(shoplist[-5])"
   ]
  },
  {
   "cell_type": "code",
   "execution_count": 49,
   "id": "30fedec3",
   "metadata": {},
   "outputs": [
    {
     "name": "stdout",
     "output_type": "stream",
     "text": [
      "['apple', 'mango', 'carrot', 'banana', 'rice', 'table', 'chair', 'pen', 'a', 'b', 'c']\n"
     ]
    }
   ],
   "source": [
    "print(shoplist)"
   ]
  },
  {
   "cell_type": "code",
   "execution_count": 50,
   "id": "76bec7df",
   "metadata": {},
   "outputs": [
    {
     "name": "stdout",
     "output_type": "stream",
     "text": [
      "['apple', 'mango', 'carrot']\n",
      "['carrot', 'banana', 'rice', 'table', 'chair', 'pen', 'a', 'b', 'c']\n",
      "['apple', 'mango', 'carrot', 'banana', 'rice', 'table', 'chair', 'pen', 'a', 'b', 'c']\n"
     ]
    }
   ],
   "source": [
    "# slice lists \n",
    "# elements beginning to 3rd\n",
    "print(shoplist[ : 3])\n",
    "\n",
    "# elements 2nd to end\n",
    "print(shoplist[ 2 : ])\n",
    "\n",
    "# elements beginning to end\n",
    "print(shoplist[ : ])"
   ]
  },
  {
   "cell_type": "code",
   "execution_count": 51,
   "id": "dc5aab6f",
   "metadata": {},
   "outputs": [
    {
     "name": "stdout",
     "output_type": "stream",
     "text": [
      "['apple', 'mango', 'carrot', 'banana', 'rice', 'table', 'chair', 'pen', 'a', 'b', 'c']\n"
     ]
    }
   ],
   "source": [
    "print(shoplist)"
   ]
  },
  {
   "cell_type": "code",
   "execution_count": 52,
   "id": "c2551247",
   "metadata": {},
   "outputs": [
    {
     "name": "stdout",
     "output_type": "stream",
     "text": [
      "I will sort my list now\n",
      "Sorted shopping list is ['a', 'apple', 'b', 'banana', 'c', 'carrot', 'chair', 'mango', 'pen', 'rice', 'table']\n"
     ]
    }
   ],
   "source": [
    "# sort the list\n",
    "print('I will sort my list now')\n",
    "shoplist.sort()\n",
    "\n",
    "print('Sorted shopping list is', shoplist)"
   ]
  },
  {
   "cell_type": "code",
   "execution_count": 54,
   "id": "194f4d6b",
   "metadata": {},
   "outputs": [
    {
     "name": "stdout",
     "output_type": "stream",
     "text": [
      "['a', 'new itemmmm', 'b', 'banana', 'c', 'carrot', 'chair', 'mango', 'pen', 'rice', 'table']\n"
     ]
    }
   ],
   "source": [
    "# make changes to list\n",
    "\n",
    "shoplist[1] = \"new itemmmm\"\n",
    "print(shoplist)"
   ]
  },
  {
   "cell_type": "code",
   "execution_count": 55,
   "id": "9e4653c6",
   "metadata": {},
   "outputs": [
    {
     "name": "stdout",
     "output_type": "stream",
     "text": [
      "['a', 'new itemmmm', 'b', 'banana', 'c', 'carrot', 'chair', 'mango', 'pen', 'rice', 'table']\n"
     ]
    }
   ],
   "source": [
    "print(shoplist[:])"
   ]
  },
  {
   "cell_type": "markdown",
   "id": "8c79022d",
   "metadata": {},
   "source": [
    "#### delete a list item"
   ]
  },
  {
   "cell_type": "code",
   "execution_count": 62,
   "id": "d35ed930",
   "metadata": {},
   "outputs": [],
   "source": [
    "shop_list = ['a', 'new itemmmm', 'b', 'banana', 'c', 'carrot', 'chair', 'mango', 'pen', 'rice', 'table']"
   ]
  },
  {
   "cell_type": "code",
   "execution_count": 63,
   "id": "a22adc0a",
   "metadata": {},
   "outputs": [
    {
     "name": "stdout",
     "output_type": "stream",
     "text": [
      "The first item I will buy is a\n",
      "I bought the a\n",
      "My shopping list is now ['new itemmmm', 'b', 'banana', 'c', 'carrot', 'chair', 'mango', 'pen', 'rice', 'table']\n"
     ]
    }
   ],
   "source": [
    "print('The first item I will buy is', shop_list[0])\n",
    "print('I bought the', shop_list[0])\n",
    "\n",
    "del shop_list[0]\n",
    "print('My shopping list is now', shop_list)"
   ]
  },
  {
   "cell_type": "markdown",
   "id": "a54759f0",
   "metadata": {},
   "source": [
    "**Remove method: takes a value as input, searches for it,  removes the first match. If the item is not found it errors "
   ]
  },
  {
   "cell_type": "code",
   "execution_count": 64,
   "id": "46a2f282",
   "metadata": {},
   "outputs": [
    {
     "name": "stdout",
     "output_type": "stream",
     "text": [
      "Example 1: A = [1, 2, 3, 4]\n"
     ]
    }
   ],
   "source": [
    "A = [1, 2, 4, 3, 4]\n",
    "A.remove(4)\n",
    "print('Example 1: A = {}'.format(A))"
   ]
  },
  {
   "cell_type": "code",
   "execution_count": 65,
   "id": "457f0758",
   "metadata": {},
   "outputs": [
    {
     "name": "stdout",
     "output_type": "stream",
     "text": [
      "Example 1: x = [1, 2, 2, 3, 4, 4, 4]\n"
     ]
    }
   ],
   "source": [
    "x = [1, 2, 2, 4, 3, 4, 4, 4]\n",
    "x.remove(4)\n",
    "print('Example 1: x = {}'.format(x))"
   ]
  },
  {
   "cell_type": "code",
   "execution_count": 67,
   "id": "1a70e125",
   "metadata": {},
   "outputs": [
    {
     "name": "stdout",
     "output_type": "stream",
     "text": [
      "Example 1: x1 = [1, 2, 2, 5, 3]\n"
     ]
    }
   ],
   "source": [
    "x1 = [1, 2, 2, 5, 3, 4]\n",
    "x1.remove(4)\n",
    "print('Example 1: x1 = {}'.format(x1))"
   ]
  },
  {
   "cell_type": "markdown",
   "id": "18e3bbea",
   "metadata": {},
   "source": [
    "**del function: removes an item at a specific index, can delete all elements or a slice."
   ]
  },
  {
   "cell_type": "code",
   "execution_count": 68,
   "id": "d2df70bf",
   "metadata": {},
   "outputs": [
    {
     "name": "stdout",
     "output_type": "stream",
     "text": [
      "Example 2 : A = [1, 2, 3, 4]\n"
     ]
    }
   ],
   "source": [
    "# Delete an item with index\n",
    "A = [1, 2, 4, 3, 4]\n",
    "del A[2]\n",
    "\n",
    "print(\"Example 2 : A = {}\".format(A))"
   ]
  },
  {
   "cell_type": "code",
   "execution_count": 69,
   "id": "5a9cf0cf",
   "metadata": {},
   "outputs": [
    {
     "name": "stdout",
     "output_type": "stream",
     "text": [
      "Example 3 : A = []\n"
     ]
    }
   ],
   "source": [
    "# Delete all items\n",
    "A = [1, 2, 4, 3, 4]\n",
    "\n",
    "del A[:]\n",
    "\n",
    "print(\"Example 3 : A = {}\".format(A))"
   ]
  },
  {
   "cell_type": "code",
   "execution_count": 70,
   "id": "8909ff7e",
   "metadata": {},
   "outputs": [
    {
     "name": "stdout",
     "output_type": "stream",
     "text": [
      "Example 4 : A = [1, 3, 4]\n"
     ]
    }
   ],
   "source": [
    "# Delete a slice 2, 4\n",
    "A = [1, 2, 4, 3, 4]\n",
    "\n",
    "del A[1:3]\n",
    "\n",
    "\n",
    "print(\"Example 4 : A = {}\".format(A))"
   ]
  },
  {
   "cell_type": "code",
   "execution_count": 76,
   "id": "587db844",
   "metadata": {},
   "outputs": [
    {
     "data": {
      "text/plain": [
       "5"
      ]
     },
     "execution_count": 76,
     "metadata": {},
     "output_type": "execute_result"
    }
   ],
   "source": [
    "# pop: remove and get the last item.\n",
    "A = [1, 2, 4, 3, 5]\n",
    "A.pop()\n"
   ]
  },
  {
   "cell_type": "code",
   "execution_count": 78,
   "id": "641f6165",
   "metadata": {},
   "outputs": [
    {
     "name": "stdout",
     "output_type": "stream",
     "text": [
      "5\n",
      "[1, 2, 4, 3]\n"
     ]
    }
   ],
   "source": [
    "A = [1, 2, 4, 3, 5]\n",
    "y = A.pop()\n",
    "print(y)\n",
    "print(A)"
   ]
  },
  {
   "cell_type": "code",
   "execution_count": 79,
   "id": "d2c059a6",
   "metadata": {},
   "outputs": [
    {
     "name": "stdout",
     "output_type": "stream",
     "text": [
      "Example 5 : A = [1, 2, 4, 3]\n",
      "Example 5 : y = 5\n"
     ]
    }
   ],
   "source": [
    "A = [1, 2, 4, 3, 5]\n",
    "y = A.pop()\n",
    "print(\"Example 5 : A = {}\".format(A))\n",
    "\n",
    "\n",
    "print(\"Example 5 : y = {}\".format(y))"
   ]
  },
  {
   "cell_type": "markdown",
   "id": "019c6abd",
   "metadata": {},
   "source": [
    "**pop with index: remove and get the second item."
   ]
  },
  {
   "cell_type": "code",
   "execution_count": 80,
   "id": "d084a889",
   "metadata": {},
   "outputs": [
    {
     "name": "stdout",
     "output_type": "stream",
     "text": [
      "Example 6 : A = [1, 2, 4, 3]\n",
      "Example 6 : x = 4\n"
     ]
    }
   ],
   "source": [
    "A = [1, 2, 4, 3, 4]\n",
    "x = A.pop(4)\n",
    "\n",
    "print(\"Example 6 : A = {}\".format(A))\n",
    "\n",
    "print(\"Example 6 : x = {}\".format(x))"
   ]
  },
  {
   "cell_type": "markdown",
   "id": "46776d01",
   "metadata": {},
   "source": [
    "###### Python List Methods\n",
    "###### Methods that are available with list object \n",
    "\n",
    "##### Are accessed as list.method(). \n",
    "'''\n",
    "- append() - Add an element to the end of the list\n",
    "- extend() - Add all elements of a list to the another list\n",
    "- insert() - Insert an item at the defined index\n",
    "- remove() - Removes an item from the list\n",
    "- pop() - Removes and returns an element at the given index\n",
    "- clear() - Removes all items from the list\n",
    "- index() - Returns the index of the first matched item\n",
    "- count() - Returns the count of number of items passed as an argument\n",
    "- sort() - Sort items in a list in ascending order\n",
    "- reverse() - Reverse the order of items in the list\n",
    "- copy() - Returns a shallow copy of the list\n",
    "'''     "
   ]
  },
  {
   "cell_type": "code",
   "execution_count": 81,
   "id": "b9da8caf",
   "metadata": {},
   "outputs": [
    {
     "data": {
      "text/plain": [
       "['c', 'carrot', 'chair', 'mango', 'pen', 'rice', 'table']"
      ]
     },
     "execution_count": 81,
     "metadata": {},
     "output_type": "execute_result"
    }
   ],
   "source": [
    "shoplist"
   ]
  },
  {
   "cell_type": "code",
   "execution_count": 83,
   "id": "84eeef4f",
   "metadata": {},
   "outputs": [
    {
     "data": {
      "text/plain": [
       "['c', 'carrot', 'stool', 'chair', 'mango', 'pen', 'rice', 'table']"
      ]
     },
     "execution_count": 83,
     "metadata": {},
     "output_type": "execute_result"
    }
   ],
   "source": [
    "# ['c', 'carrot', 'chair', 'mango', 'pen', 'rice', 'table']\n",
    "# Insert an item at the defined index\n",
    "\n",
    "shoplist.insert(2, 'stool')\n",
    "shoplist"
   ]
  },
  {
   "cell_type": "code",
   "execution_count": 84,
   "id": "74ed49ed",
   "metadata": {},
   "outputs": [
    {
     "data": {
      "text/plain": [
       "['c', 'carrot', 'stool', 'mango', 'pen', 'rice', 'table']"
      ]
     },
     "execution_count": 84,
     "metadata": {},
     "output_type": "execute_result"
    }
   ],
   "source": [
    "#['c', 'carrot', 'stool', 'chair', 'mango', 'pen', 'rice', 'table']\n",
    "# remove() - Removes an item from the list\n",
    "shoplist.remove('chair')\n",
    "shoplist\n"
   ]
  },
  {
   "cell_type": "code",
   "execution_count": 85,
   "id": "af174fe0",
   "metadata": {},
   "outputs": [
    {
     "data": {
      "text/plain": [
       "['c', 'carrot', 'stool', 'mango', 'pen', 'rice']"
      ]
     },
     "execution_count": 85,
     "metadata": {},
     "output_type": "execute_result"
    }
   ],
   "source": [
    "##['c', 'carrot', 'stool', 'mango', 'pen', 'rice', 'table']\n",
    "# pop() - Removes and returns an element at the given index\n",
    "shoplist.pop() # removes d last elements\n",
    "shoplist"
   ]
  },
  {
   "cell_type": "code",
   "execution_count": 86,
   "id": "ced87985",
   "metadata": {},
   "outputs": [
    {
     "name": "stdout",
     "output_type": "stream",
     "text": [
      "Position of matched item is: 2\n"
     ]
    }
   ],
   "source": [
    "#['c', 'carrot', 'stool', 'mango', 'pen', 'rice']\n",
    "pos = shoplist.index('stool')\n",
    "print('Position of matched item is:', pos)"
   ]
  },
  {
   "cell_type": "code",
   "execution_count": 87,
   "id": "03fdf8e6",
   "metadata": {},
   "outputs": [
    {
     "name": "stdout",
     "output_type": "stream",
     "text": [
      "count of matched item is :  1\n"
     ]
    }
   ],
   "source": [
    "# count() - Returns the number of occurances of the matched item\n",
    "cnt = shoplist.count('carrot')\n",
    "\n",
    "print('count of matched item is : ', cnt)"
   ]
  },
  {
   "cell_type": "code",
   "execution_count": 88,
   "id": "8c39eaee",
   "metadata": {},
   "outputs": [],
   "source": [
    "x = ['tail', 'net', 'spare', 'leizure', 'tale', 'gather', 'tale']"
   ]
  },
  {
   "cell_type": "code",
   "execution_count": 91,
   "id": "0c67dc37",
   "metadata": {},
   "outputs": [
    {
     "name": "stdout",
     "output_type": "stream",
     "text": [
      "the total no. of tale occurs in the list are: 2\n"
     ]
    }
   ],
   "source": [
    "info = x.count('tale') # info is just variable name.\n",
    "print('the total no. of tale occurs in the list are:', info)"
   ]
  },
  {
   "cell_type": "code",
   "execution_count": 92,
   "id": "678dfafa",
   "metadata": {},
   "outputs": [
    {
     "name": "stdout",
     "output_type": "stream",
     "text": [
      "[1, 2, 4, 8, 16, 32, 64, 128, 256, 512]\n"
     ]
    }
   ],
   "source": [
    "# creating list of \n",
    "powerList = []\n",
    "\n",
    "for x in range(10):\n",
    "   powerList.append(2 ** x) # 0 to 9\n",
    "\n",
    "print(powerList)\n"
   ]
  },
  {
   "cell_type": "code",
   "execution_count": 93,
   "id": "25b0134a",
   "metadata": {},
   "outputs": [
    {
     "name": "stdout",
     "output_type": "stream",
     "text": [
      "[0, 1, 4, 9, 16, 25, 36, 49, 64]\n"
     ]
    }
   ],
   "source": [
    "list = []\n",
    "for i in range(9):\n",
    "    list.append(i ** 2)  # 0 to 8\n",
    "print(list)    \n",
    "    \n",
    "    \n",
    "#Output:  [0, 1, 4, 9, 16, 25, 36, 49, 64] "
   ]
  },
  {
   "cell_type": "code",
   "execution_count": 94,
   "id": "31ecef58",
   "metadata": {},
   "outputs": [
    {
     "name": "stdout",
     "output_type": "stream",
     "text": [
      "[1, 2, 4, 8, 16, 32, 64, 128, 256, 512]\n"
     ]
    }
   ],
   "source": [
    "# list comprehension with if \n",
    "\n",
    "powerList = [2 ** x for x in range(10) ]\n",
    "\n",
    "print(powerList)"
   ]
  },
  {
   "cell_type": "markdown",
   "id": "6704cb35",
   "metadata": {},
   "source": [
    "#### list comprehension:-\n",
    "\n",
    "- expression followed by `for` statement"
   ]
  },
  {
   "cell_type": "code",
   "execution_count": 98,
   "id": "9045fdb3",
   "metadata": {},
   "outputs": [
    {
     "name": "stdout",
     "output_type": "stream",
     "text": [
      "The value of a list:\n",
      " [0, 1, 4, 9, 16, 25, 36, 49, 64]\n"
     ]
    }
   ],
   "source": [
    "list = [i ** 2 for i in range(9)]\n",
    "print('The value of a list:\\n',list)"
   ]
  },
  {
   "cell_type": "code",
   "execution_count": 100,
   "id": "67d79754",
   "metadata": {},
   "outputs": [
    {
     "name": "stdout",
     "output_type": "stream",
     "text": [
      "0\n",
      "1\n",
      "2\n",
      "3\n",
      "4\n",
      "5\n",
      "6\n",
      "7\n",
      "8\n",
      "9\n"
     ]
    }
   ],
   "source": [
    "for x in range(10):\n",
    "    print(x)"
   ]
  },
  {
   "cell_type": "code",
   "execution_count": null,
   "id": "67077cb9",
   "metadata": {},
   "outputs": [],
   "source": [
    "# build powerList of even numbers\n",
    "evenpowerList = [2 ** x for x in range(20) if x % 2 == 0]\n",
    "print(evenpowerList)"
   ]
  },
  {
   "cell_type": "code",
   "execution_count": 101,
   "id": "ad853d2f",
   "metadata": {},
   "outputs": [
    {
     "name": "stdout",
     "output_type": "stream",
     "text": [
      "[0, 4, 16, 36, 64, 100, 144, 196, 256, 324]\n"
     ]
    }
   ],
   "source": [
    "even_list = [x ** 2 for x in range(20) if x % 2 == 0]\n",
    "print(even_list)"
   ]
  },
  {
   "cell_type": "code",
   "execution_count": 103,
   "id": "0b5e391e",
   "metadata": {},
   "outputs": [
    {
     "name": "stdout",
     "output_type": "stream",
     "text": [
      "[0, 4, 8, 12, 16, 20, 24, 28, 32, 36]\n"
     ]
    }
   ],
   "source": [
    "even_list = [x * 2 for x in range(20) if x % 2 == 0]\n",
    "print(even_list)"
   ]
  },
  {
   "cell_type": "code",
   "execution_count": 104,
   "id": "541d73f2",
   "metadata": {},
   "outputs": [
    {
     "name": "stdout",
     "output_type": "stream",
     "text": [
      "[2, 6, 10, 14, 18, 22, 26, 30, 34, 38]\n"
     ]
    }
   ],
   "source": [
    "# build powerList of odd numbers\n",
    "\n",
    "oddpowerList = [2 * x for x in range(20) if x % 2 == 1]\n",
    "print(oddpowerList)"
   ]
  },
  {
   "cell_type": "code",
   "execution_count": 106,
   "id": "c47eb2cd",
   "metadata": {},
   "outputs": [
    {
     "name": "stdout",
     "output_type": "stream",
     "text": [
      "I like: c\n",
      "I like: carrot\n",
      "I like: stool\n",
      "I like: mango\n",
      "I like: pen\n",
      "I like: rice\n"
     ]
    }
   ],
   "source": [
    "shoplist = ['c', 'carrot', 'stool', 'mango', 'pen', 'rice']\n",
    "# Iterating Through a List\n",
    "\n",
    "for listItem in shoplist:\n",
    "    print('I like:', listItem)"
   ]
  },
  {
   "cell_type": "code",
   "execution_count": null,
   "id": "8fc25a26",
   "metadata": {},
   "outputs": [],
   "source": [
    "'''\n",
    "Built-in Functions with List\n",
    "all()\tReturn True if all elements of the list are true \n",
    "        (or if the list is empty).\n",
    "any()\tReturn True if any element of the list is true. \n",
    "        If the list is empty, return False.\n",
    "enumerate()\tReturn an enumerate object. It contains the index \n",
    "            and value of all the items of list as a tuple.\n",
    "len()\tReturn the length (the number of items) in the list.\n",
    "list()\tConvert an iterable (tuple, string, set, dictionary) to a list.\n",
    "max()\tReturn the largest item in the list.\n",
    "min()\tReturn the smallest item in the list\n",
    "sorted()\tReturn a new sorted list (does not sort the list itself).\n",
    "sum()\tReturn the sum of all elements in the list.\n",
    "'''"
   ]
  },
  {
   "cell_type": "code",
   "execution_count": 107,
   "id": "79738462",
   "metadata": {},
   "outputs": [
    {
     "data": {
      "text/plain": [
       "True"
      ]
     },
     "execution_count": 107,
     "metadata": {},
     "output_type": "execute_result"
    }
   ],
   "source": [
    "lst = []\n",
    "all(lst)"
   ]
  },
  {
   "cell_type": "code",
   "execution_count": 108,
   "id": "923c076e",
   "metadata": {},
   "outputs": [
    {
     "data": {
      "text/plain": [
       "True"
      ]
     },
     "execution_count": 108,
     "metadata": {},
     "output_type": "execute_result"
    }
   ],
   "source": [
    "list = [1, 2, 3, 4, 5]\n",
    "all(lst)"
   ]
  },
  {
   "cell_type": "code",
   "execution_count": 109,
   "id": "b11ea051",
   "metadata": {},
   "outputs": [
    {
     "data": {
      "text/plain": [
       "True"
      ]
     },
     "execution_count": 109,
     "metadata": {},
     "output_type": "execute_result"
    }
   ],
   "source": [
    "list1 = [1, 2, 5, 6, True]\n",
    "all(list1)"
   ]
  },
  {
   "cell_type": "code",
   "execution_count": 110,
   "id": "77860398",
   "metadata": {},
   "outputs": [
    {
     "data": {
      "text/plain": [
       "False"
      ]
     },
     "execution_count": 110,
     "metadata": {},
     "output_type": "execute_result"
    }
   ],
   "source": [
    "list2 = [1, 2, 5, 6, False]\n",
    "all(list2)"
   ]
  },
  {
   "cell_type": "markdown",
   "id": "0f8f242a",
   "metadata": {},
   "source": [
    "**enumerate **It contains index and the value of all the items of list"
   ]
  },
  {
   "cell_type": "code",
   "execution_count": 117,
   "id": "f904cb7d",
   "metadata": {},
   "outputs": [
    {
     "ename": "TypeError",
     "evalue": "'list' object is not callable",
     "output_type": "error",
     "traceback": [
      "\u001b[1;31m---------------------------------------------------------------------------\u001b[0m",
      "\u001b[1;31mTypeError\u001b[0m                                 Traceback (most recent call last)",
      "\u001b[1;32m~\\AppData\\Local\\Temp/ipykernel_14296/2899943805.py\u001b[0m in \u001b[0;36m<module>\u001b[1;34m\u001b[0m\n\u001b[0;32m      4\u001b[0m \u001b[0menumerate_gr\u001b[0m \u001b[1;33m=\u001b[0m \u001b[0menumerate\u001b[0m\u001b[1;33m(\u001b[0m\u001b[0mgrocery\u001b[0m\u001b[1;33m)\u001b[0m\u001b[1;33m\u001b[0m\u001b[1;33m\u001b[0m\u001b[0m\n\u001b[0;32m      5\u001b[0m \u001b[1;33m\u001b[0m\u001b[0m\n\u001b[1;32m----> 6\u001b[1;33m \u001b[0mprint\u001b[0m\u001b[1;33m(\u001b[0m\u001b[0mlist\u001b[0m\u001b[1;33m(\u001b[0m\u001b[0menumerate_gr\u001b[0m\u001b[1;33m)\u001b[0m\u001b[1;33m)\u001b[0m\u001b[1;33m\u001b[0m\u001b[1;33m\u001b[0m\u001b[0m\n\u001b[0m",
      "\u001b[1;31mTypeError\u001b[0m: 'list' object is not callable"
     ]
    }
   ],
   "source": [
    "# enumerate()\n",
    "grocery = ['bread', 'milk', 'butter']\n",
    "\n",
    "enumerate_gr = enumerate(grocery)\n",
    "\n",
    "print(list(enumerate_gr))"
   ]
  },
  {
   "cell_type": "code",
   "execution_count": 119,
   "id": "f3d9b908",
   "metadata": {},
   "outputs": [
    {
     "name": "stdout",
     "output_type": "stream",
     "text": [
      "<enumerate object at 0x0000021F336E5180>\n"
     ]
    }
   ],
   "source": [
    "# enumerate()\n",
    "grocery = ['bread', 'milk', 'butter']\n",
    "\n",
    "enumerateGrocery = enumerate(grocery)\n",
    "\n",
    "print(enumerateGrocery)"
   ]
  },
  {
   "cell_type": "markdown",
   "id": "1147c0f2",
   "metadata": {},
   "source": [
    "# END"
   ]
  }
 ],
 "metadata": {
  "kernelspec": {
   "display_name": "Python 3 (ipykernel)",
   "language": "python",
   "name": "python3"
  },
  "language_info": {
   "codemirror_mode": {
    "name": "ipython",
    "version": 3
   },
   "file_extension": ".py",
   "mimetype": "text/x-python",
   "name": "python",
   "nbconvert_exporter": "python",
   "pygments_lexer": "ipython3",
   "version": "3.9.7"
  }
 },
 "nbformat": 4,
 "nbformat_minor": 5
}
